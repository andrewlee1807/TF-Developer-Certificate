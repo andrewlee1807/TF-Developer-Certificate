{
 "cells": [
  {
   "cell_type": "markdown",
   "metadata": {
    "collapsed": true,
    "pycharm": {
     "name": "#%% md\n"
    }
   },
   "source": [
    "# Week 4: Multi-class Classification\n",
    "\n",
    "Welcome to this assignment! In this exercise, you will get a chance to work on a multi-class classification problem. You will be using the [Sign Language MNIST](https://www.kaggle.com/datamunge/sign-language-mnist) dataset, which contains 28x28 images of hands depicting the 26 letters of the english alphabet.\n",
    "\n",
    "You will need to pre-process the data so that it can be fed into your convolutional neural network to correctly classify each image as the letter it represents.\n",
    "\n",
    "\n",
    "Let's get started!"
   ]
  },
  {
   "cell_type": "code",
   "execution_count": 1,
   "outputs": [],
   "source": [
    "import csv\n",
    "import string\n",
    "import numpy as np\n",
    "import tensorflow as tf\n",
    "import matplotlib.pyplot as plt\n",
    "from tensorflow.keras.preprocessing.image import ImageDataGenerator, array_to_img"
   ],
   "metadata": {
    "collapsed": false,
    "pycharm": {
     "name": "#%%\n"
    }
   }
  },
  {
   "cell_type": "code",
   "execution_count": 3,
   "outputs": [
    {
     "name": "stderr",
     "output_type": "stream",
     "text": [
      "C:\\Users\\Andrew\\anaconda3\\envs\\TF_Developer_Certificate\\lib\\site-packages\\gdown\\cli.py:127: FutureWarning: Option `--id` was deprecated in version 4.3.1 and will be removed in 5.0. You don't need to pass it anymore to use a file ID.\n",
      "  warnings.warn(\n",
      "Downloading...\n",
      "From: https://drive.google.com/uc?id=1z0DkA9BytlLxO1C0BAWzknLyQmZAp0HR\n",
      "To: C:\\Users\\Andrew\\Documents\\Project\\TF-Developer-Certificate\\TensorFlow in Practice - Course\\Computer vision with TensorFlow\\sign_mnist_train.csv\n",
      "\n",
      "  0%|          | 0.00/83.3M [00:00<?, ?B/s]\n",
      "  1%|          | 524k/83.3M [00:00<00:27, 3.06MB/s]\n",
      "  3%|2         | 2.10M/83.3M [00:00<00:09, 8.59MB/s]\n",
      "  6%|5         | 4.72M/83.3M [00:00<00:06, 11.5MB/s]\n",
      " 12%|#1        | 9.96M/83.3M [00:00<00:03, 22.4MB/s]\n",
      " 15%|#5        | 12.6M/83.3M [00:00<00:04, 17.6MB/s]\n",
      " 18%|#7        | 14.7M/83.3M [00:01<00:04, 14.5MB/s]\n",
      " 25%|##4       | 20.4M/83.3M [00:01<00:03, 18.6MB/s]\n",
      " 27%|##7       | 22.5M/83.3M [00:01<00:03, 18.1MB/s]\n",
      " 30%|##9       | 24.6M/83.3M [00:01<00:03, 18.2MB/s]\n",
      " 32%|###2      | 26.7M/83.3M [00:01<00:03, 15.2MB/s]\n",
      " 38%|###7      | 31.5M/83.3M [00:01<00:02, 21.7MB/s]\n",
      " 41%|####      | 34.1M/83.3M [00:01<00:02, 22.1MB/s]\n",
      " 44%|####4     | 36.7M/83.3M [00:02<00:02, 23.0MB/s]\n",
      " 48%|####7     | 39.8M/83.3M [00:02<00:01, 24.5MB/s]\n",
      " 52%|#####1    | 43.0M/83.3M [00:02<00:01, 26.1MB/s]\n",
      " 56%|#####6    | 46.7M/83.3M [00:02<00:01, 28.6MB/s]\n",
      " 61%|######1   | 50.9M/83.3M [00:02<00:01, 31.2MB/s]\n",
      " 65%|######5   | 54.5M/83.3M [00:02<00:01, 23.3MB/s]\n",
      " 71%|#######1  | 59.2M/83.3M [00:02<00:00, 28.4MB/s]\n",
      " 76%|#######5  | 62.9M/83.3M [00:02<00:00, 26.5MB/s]\n",
      " 82%|########1 | 68.2M/83.3M [00:03<00:00, 32.3MB/s]\n",
      " 86%|########6 | 71.8M/83.3M [00:03<00:00, 28.1MB/s]\n",
      " 91%|#########1| 76.0M/83.3M [00:03<00:00, 26.0MB/s]\n",
      " 98%|#########8| 81.8M/83.3M [00:03<00:00, 32.2MB/s]\n",
      "100%|##########| 83.3M/83.3M [00:03<00:00, 23.5MB/s]\n",
      "C:\\Users\\Andrew\\anaconda3\\envs\\TF_Developer_Certificate\\lib\\site-packages\\gdown\\cli.py:127: FutureWarning: Option `--id` was deprecated in version 4.3.1 and will be removed in 5.0. You don't need to pass it anymore to use a file ID.\n",
      "  warnings.warn(\n",
      "Downloading...\n",
      "From: https://drive.google.com/uc?id=1z1BIj4qmri59GWBG4ivMNFtpZ4AXIbzg\n",
      "To: C:\\Users\\Andrew\\Documents\\Project\\TF-Developer-Certificate\\TensorFlow in Practice - Course\\Computer vision with TensorFlow\\sign_mnist_test.csv\n",
      "\n",
      "  0%|          | 0.00/21.8M [00:00<?, ?B/s]\n",
      "  2%|2         | 524k/21.8M [00:00<00:07, 2.86MB/s]\n",
      " 10%|9         | 2.10M/21.8M [00:00<00:02, 8.36MB/s]\n",
      " 24%|##4       | 5.24M/21.8M [00:00<00:01, 13.6MB/s]\n",
      " 34%|###3      | 7.34M/21.8M [00:00<00:00, 15.5MB/s]\n",
      " 43%|####3     | 9.44M/21.8M [00:00<00:00, 16.3MB/s]\n",
      " 53%|#####2    | 11.5M/21.8M [00:00<00:00, 12.9MB/s]\n",
      " 63%|######2   | 13.6M/21.8M [00:01<00:00, 12.5MB/s]\n",
      " 70%|######9   | 15.2M/21.8M [00:01<00:00, 12.8MB/s]\n",
      " 79%|#######9  | 17.3M/21.8M [00:01<00:00, 12.4MB/s]\n",
      " 87%|########6 | 18.9M/21.8M [00:01<00:00, 12.0MB/s]\n",
      "100%|##########| 21.8M/21.8M [00:01<00:00, 13.4MB/s]\n"
     ]
    }
   ],
   "source": [
    "# sign_mnist_train.csv\n",
    "!gdown --id 1z0DkA9BytlLxO1C0BAWzknLyQmZAp0HR\n",
    "# sign_mnist_test.csv\n",
    "!gdown --id 1z1BIj4qmri59GWBG4ivMNFtpZ4AXIbzg"
   ],
   "metadata": {
    "collapsed": false,
    "pycharm": {
     "name": "#%%\n"
    }
   }
  },
  {
   "cell_type": "code",
   "execution_count": 4,
   "outputs": [],
   "source": [
    "TRAINING_FILE = './sign_mnist_train.csv'\n",
    "VALIDATION_FILE = './sign_mnist_test.csv'"
   ],
   "metadata": {
    "collapsed": false,
    "pycharm": {
     "name": "#%%\n"
    }
   }
  },
  {
   "cell_type": "code",
   "execution_count": 5,
   "outputs": [
    {
     "name": "stdout",
     "output_type": "stream",
     "text": [
      "First line (header) looks like this:\n",
      "label,pixel1,pixel2,pixel3,pixel4,pixel5,pixel6,pixel7,pixel8,pixel9,pixel10,pixel11,pixel12,pixel13,pixel14,pixel15,pixel16,pixel17,pixel18,pixel19,pixel20,pixel21,pixel22,pixel23,pixel24,pixel25,pixel26,pixel27,pixel28,pixel29,pixel30,pixel31,pixel32,pixel33,pixel34,pixel35,pixel36,pixel37,pixel38,pixel39,pixel40,pixel41,pixel42,pixel43,pixel44,pixel45,pixel46,pixel47,pixel48,pixel49,pixel50,pixel51,pixel52,pixel53,pixel54,pixel55,pixel56,pixel57,pixel58,pixel59,pixel60,pixel61,pixel62,pixel63,pixel64,pixel65,pixel66,pixel67,pixel68,pixel69,pixel70,pixel71,pixel72,pixel73,pixel74,pixel75,pixel76,pixel77,pixel78,pixel79,pixel80,pixel81,pixel82,pixel83,pixel84,pixel85,pixel86,pixel87,pixel88,pixel89,pixel90,pixel91,pixel92,pixel93,pixel94,pixel95,pixel96,pixel97,pixel98,pixel99,pixel100,pixel101,pixel102,pixel103,pixel104,pixel105,pixel106,pixel107,pixel108,pixel109,pixel110,pixel111,pixel112,pixel113,pixel114,pixel115,pixel116,pixel117,pixel118,pixel119,pixel120,pixel121,pixel122,pixel123,pixel124,pixel125,pixel126,pixel127,pixel128,pixel129,pixel130,pixel131,pixel132,pixel133,pixel134,pixel135,pixel136,pixel137,pixel138,pixel139,pixel140,pixel141,pixel142,pixel143,pixel144,pixel145,pixel146,pixel147,pixel148,pixel149,pixel150,pixel151,pixel152,pixel153,pixel154,pixel155,pixel156,pixel157,pixel158,pixel159,pixel160,pixel161,pixel162,pixel163,pixel164,pixel165,pixel166,pixel167,pixel168,pixel169,pixel170,pixel171,pixel172,pixel173,pixel174,pixel175,pixel176,pixel177,pixel178,pixel179,pixel180,pixel181,pixel182,pixel183,pixel184,pixel185,pixel186,pixel187,pixel188,pixel189,pixel190,pixel191,pixel192,pixel193,pixel194,pixel195,pixel196,pixel197,pixel198,pixel199,pixel200,pixel201,pixel202,pixel203,pixel204,pixel205,pixel206,pixel207,pixel208,pixel209,pixel210,pixel211,pixel212,pixel213,pixel214,pixel215,pixel216,pixel217,pixel218,pixel219,pixel220,pixel221,pixel222,pixel223,pixel224,pixel225,pixel226,pixel227,pixel228,pixel229,pixel230,pixel231,pixel232,pixel233,pixel234,pixel235,pixel236,pixel237,pixel238,pixel239,pixel240,pixel241,pixel242,pixel243,pixel244,pixel245,pixel246,pixel247,pixel248,pixel249,pixel250,pixel251,pixel252,pixel253,pixel254,pixel255,pixel256,pixel257,pixel258,pixel259,pixel260,pixel261,pixel262,pixel263,pixel264,pixel265,pixel266,pixel267,pixel268,pixel269,pixel270,pixel271,pixel272,pixel273,pixel274,pixel275,pixel276,pixel277,pixel278,pixel279,pixel280,pixel281,pixel282,pixel283,pixel284,pixel285,pixel286,pixel287,pixel288,pixel289,pixel290,pixel291,pixel292,pixel293,pixel294,pixel295,pixel296,pixel297,pixel298,pixel299,pixel300,pixel301,pixel302,pixel303,pixel304,pixel305,pixel306,pixel307,pixel308,pixel309,pixel310,pixel311,pixel312,pixel313,pixel314,pixel315,pixel316,pixel317,pixel318,pixel319,pixel320,pixel321,pixel322,pixel323,pixel324,pixel325,pixel326,pixel327,pixel328,pixel329,pixel330,pixel331,pixel332,pixel333,pixel334,pixel335,pixel336,pixel337,pixel338,pixel339,pixel340,pixel341,pixel342,pixel343,pixel344,pixel345,pixel346,pixel347,pixel348,pixel349,pixel350,pixel351,pixel352,pixel353,pixel354,pixel355,pixel356,pixel357,pixel358,pixel359,pixel360,pixel361,pixel362,pixel363,pixel364,pixel365,pixel366,pixel367,pixel368,pixel369,pixel370,pixel371,pixel372,pixel373,pixel374,pixel375,pixel376,pixel377,pixel378,pixel379,pixel380,pixel381,pixel382,pixel383,pixel384,pixel385,pixel386,pixel387,pixel388,pixel389,pixel390,pixel391,pixel392,pixel393,pixel394,pixel395,pixel396,pixel397,pixel398,pixel399,pixel400,pixel401,pixel402,pixel403,pixel404,pixel405,pixel406,pixel407,pixel408,pixel409,pixel410,pixel411,pixel412,pixel413,pixel414,pixel415,pixel416,pixel417,pixel418,pixel419,pixel420,pixel421,pixel422,pixel423,pixel424,pixel425,pixel426,pixel427,pixel428,pixel429,pixel430,pixel431,pixel432,pixel433,pixel434,pixel435,pixel436,pixel437,pixel438,pixel439,pixel440,pixel441,pixel442,pixel443,pixel444,pixel445,pixel446,pixel447,pixel448,pixel449,pixel450,pixel451,pixel452,pixel453,pixel454,pixel455,pixel456,pixel457,pixel458,pixel459,pixel460,pixel461,pixel462,pixel463,pixel464,pixel465,pixel466,pixel467,pixel468,pixel469,pixel470,pixel471,pixel472,pixel473,pixel474,pixel475,pixel476,pixel477,pixel478,pixel479,pixel480,pixel481,pixel482,pixel483,pixel484,pixel485,pixel486,pixel487,pixel488,pixel489,pixel490,pixel491,pixel492,pixel493,pixel494,pixel495,pixel496,pixel497,pixel498,pixel499,pixel500,pixel501,pixel502,pixel503,pixel504,pixel505,pixel506,pixel507,pixel508,pixel509,pixel510,pixel511,pixel512,pixel513,pixel514,pixel515,pixel516,pixel517,pixel518,pixel519,pixel520,pixel521,pixel522,pixel523,pixel524,pixel525,pixel526,pixel527,pixel528,pixel529,pixel530,pixel531,pixel532,pixel533,pixel534,pixel535,pixel536,pixel537,pixel538,pixel539,pixel540,pixel541,pixel542,pixel543,pixel544,pixel545,pixel546,pixel547,pixel548,pixel549,pixel550,pixel551,pixel552,pixel553,pixel554,pixel555,pixel556,pixel557,pixel558,pixel559,pixel560,pixel561,pixel562,pixel563,pixel564,pixel565,pixel566,pixel567,pixel568,pixel569,pixel570,pixel571,pixel572,pixel573,pixel574,pixel575,pixel576,pixel577,pixel578,pixel579,pixel580,pixel581,pixel582,pixel583,pixel584,pixel585,pixel586,pixel587,pixel588,pixel589,pixel590,pixel591,pixel592,pixel593,pixel594,pixel595,pixel596,pixel597,pixel598,pixel599,pixel600,pixel601,pixel602,pixel603,pixel604,pixel605,pixel606,pixel607,pixel608,pixel609,pixel610,pixel611,pixel612,pixel613,pixel614,pixel615,pixel616,pixel617,pixel618,pixel619,pixel620,pixel621,pixel622,pixel623,pixel624,pixel625,pixel626,pixel627,pixel628,pixel629,pixel630,pixel631,pixel632,pixel633,pixel634,pixel635,pixel636,pixel637,pixel638,pixel639,pixel640,pixel641,pixel642,pixel643,pixel644,pixel645,pixel646,pixel647,pixel648,pixel649,pixel650,pixel651,pixel652,pixel653,pixel654,pixel655,pixel656,pixel657,pixel658,pixel659,pixel660,pixel661,pixel662,pixel663,pixel664,pixel665,pixel666,pixel667,pixel668,pixel669,pixel670,pixel671,pixel672,pixel673,pixel674,pixel675,pixel676,pixel677,pixel678,pixel679,pixel680,pixel681,pixel682,pixel683,pixel684,pixel685,pixel686,pixel687,pixel688,pixel689,pixel690,pixel691,pixel692,pixel693,pixel694,pixel695,pixel696,pixel697,pixel698,pixel699,pixel700,pixel701,pixel702,pixel703,pixel704,pixel705,pixel706,pixel707,pixel708,pixel709,pixel710,pixel711,pixel712,pixel713,pixel714,pixel715,pixel716,pixel717,pixel718,pixel719,pixel720,pixel721,pixel722,pixel723,pixel724,pixel725,pixel726,pixel727,pixel728,pixel729,pixel730,pixel731,pixel732,pixel733,pixel734,pixel735,pixel736,pixel737,pixel738,pixel739,pixel740,pixel741,pixel742,pixel743,pixel744,pixel745,pixel746,pixel747,pixel748,pixel749,pixel750,pixel751,pixel752,pixel753,pixel754,pixel755,pixel756,pixel757,pixel758,pixel759,pixel760,pixel761,pixel762,pixel763,pixel764,pixel765,pixel766,pixel767,pixel768,pixel769,pixel770,pixel771,pixel772,pixel773,pixel774,pixel775,pixel776,pixel777,pixel778,pixel779,pixel780,pixel781,pixel782,pixel783,pixel784\n",
      "\n",
      "Each subsequent line (data points) look like this:\n",
      "3,107,118,127,134,139,143,146,150,153,156,158,160,163,165,159,166,168,170,170,171,171,171,172,171,171,170,170,169,111,121,129,135,141,144,148,151,154,157,160,163,164,170,119,152,171,171,170,171,172,172,172,172,172,171,171,170,113,123,131,137,142,145,150,152,155,158,161,163,164,172,105,142,170,171,171,171,172,172,173,173,172,171,171,171,116,125,133,139,143,146,151,153,156,159,162,163,167,167,95,144,171,172,172,172,172,172,173,173,173,172,172,171,117,126,134,140,145,149,153,156,158,161,163,164,175,156,87,154,172,173,173,173,173,173,174,174,174,173,172,172,119,128,136,142,146,150,153,156,159,163,165,164,184,148,89,164,172,174,174,174,174,175,175,174,175,174,173,173,122,130,138,143,147,150,154,158,162,165,166,172,181,128,94,170,173,175,174,175,176,177,177,177,177,175,175,174,122,132,139,145,149,152,156,160,163,165,166,181,172,103,113,175,176,178,178,179,179,179,179,178,179,177,175,174,125,134,141,147,150,153,157,161,164,167,168,184,179,116,126,165,176,179,180,180,181,180,180,180,179,178,177,176,128,135,142,148,152,154,158,162,165,168,170,187,180,156,161,124,143,179,178,178,181,182,181,180,181,180,179,179,129,136,144,150,153,155,159,163,166,169,172,187,184,153,102,117,110,175,169,154,182,183,183,182,182,181,181,179,131,138,145,150,155,157,161,165,168,174,190,189,175,146,94,97,113,151,158,129,184,184,184,184,183,183,182,180,131,139,146,151,155,159,163,167,175,182,179,171,159,114,102,89,121,136,136,96,172,186,186,185,185,184,182,181,131,140,147,154,157,160,164,179,186,191,187,180,157,100,88,84,108,111,126,90,120,186,187,187,186,185,184,182,133,141,149,155,158,160,174,201,189,165,151,143,146,120,87,78,87,76,108,98,96,181,188,187,186,186,185,183,133,141,150,156,160,161,179,197,174,135,99,72,95,134,97,72,74,68,116,105,108,187,189,187,187,186,186,185,134,143,151,156,161,163,179,194,156,110,74,42,52,139,94,67,75,75,118,106,129,189,191,190,188,188,187,186,135,144,152,158,163,163,177,193,161,122,84,43,71,134,81,57,71,88,112,98,157,193,193,192,190,190,189,188,136,144,152,158,162,163,176,192,164,128,98,62,60,100,71,76,96,101,105,95,174,195,194,194,194,193,191,190,137,145,152,159,164,165,178,191,164,135,113,82,59,87,98,111,120,108,97,108,190,196,195,195,194,193,193,192,139,146,154,160,164,165,175,186,163,139,112,85,67,102,126,133,126,105,104,176,197,198,197,196,195,195,194,193,138,147,155,161,165,167,172,186,163,137,107,87,76,106,122,125,117,96,156,199,199,200,198,196,196,195,195,194,139,148,156,163,166,168,172,180,158,131,108,99,86,108,118,116,103,107,191,202,201,200,200,200,199,197,198,196,140,149,157,164,168,167,177,178,155,131,118,105,87,100,106,100,96,164,202,202,202,202,202,201,200,199,199,198,140,150,157,165,167,170,181,175,152,130,115,98,82,85,90,99,165,202,203,204,203,203,202,202,201,201,200,200,142,150,159,165,170,191,173,157,144,119,97,84,79,79,91,172,202,203,203,205,204,204,204,203,202,202,201,200,142,151,160,165,188,190,187,150,119,109,85,79,79,78,137,203,205,206,206,207,207,206,206,204,205,204,203,202,142,151,160,172,196,188,188,190,135,96,86,77,77,79,176,205,207,207,207,207,207,207,206,206,206,204,203,202\n",
      "\n"
     ]
    }
   ],
   "source": [
    "with open(TRAINING_FILE) as training_file:\n",
    "    line = training_file.readline()\n",
    "    print(f\"First line (header) looks like this:\\n{line}\")\n",
    "    line = training_file.readline()\n",
    "    print(f\"Each subsequent line (data points) look like this:\\n{line}\")"
   ],
   "metadata": {
    "collapsed": false,
    "pycharm": {
     "name": "#%%\n"
    }
   }
  },
  {
   "cell_type": "markdown",
   "source": [
    "As you can see, each file includes a header (the first line) and each subsequent data point is represented as a line that contains 785 values.\n",
    "\n",
    "The first value is the label (the numeric representation of each letter) and the other 784 values are the value of each pixel of the image. Remember that the original images have a resolution of 28x28, which sums up to 784 pixels."
   ],
   "metadata": {
    "collapsed": false,
    "pycharm": {
     "name": "#%% md\n"
    }
   }
  },
  {
   "cell_type": "markdown",
   "source": [
    " ## Parsing the dataset\n",
    "\n",
    " Now complete the `parse_data_from_input` below.\n",
    "\n",
    " This function should be able to read a file passed as input and return 2 numpy arrays, one containing the labels and one containing the 28x28 representation of each image within the file. These numpy arrays should have type `float64`.\n",
    "\n",
    " A couple of things to keep in mind:\n",
    "\n",
    "- The first line contains the column headers, so you should ignore it.\n",
    "\n",
    "- Each successive line contains 785 comma-separated values between 0 and 255\n",
    "  - The first value is the label\n",
    "\n",
    "  - The rest are the pixel values for that picture\n",
    "\n",
    "\n",
    "  Tips:\n",
    "\n",
    "- `csv.reader` returns an iterable that returns a row of the csv file in each iteration.\n",
    "Following this convention, row[0] has the label and row[1:] has the 784 pixel values.\n",
    "\n",
    "- To reshape the arrays (going from 784 to 28x28), you can use functions such as [`np.array_split`](https://numpy.org/doc/stable/reference/generated/numpy.array_split.html) or [`np.reshape`](https://numpy.org/doc/stable/reference/generated/numpy.reshape.html).\n",
    "\n",
    "- For type conversion of the numpy arrays, use the method [`np.ndarray.astype`](https://numpy.org/doc/stable/reference/generated/numpy.ndarray.astype.html)."
   ],
   "metadata": {
    "collapsed": false,
    "pycharm": {
     "name": "#%% md\n"
    }
   }
  },
  {
   "cell_type": "code",
   "execution_count": 32,
   "outputs": [],
   "source": [
    "# f = open('./sign_mnist_test.csv')\n",
    "# csv_reader = csv.reader(f, delimiter=',')\n",
    "# rows = np.asarray([row for row in csv_reader])"
   ],
   "metadata": {
    "collapsed": false,
    "pycharm": {
     "name": "#%%\n"
    }
   }
  },
  {
   "cell_type": "code",
   "execution_count": 88,
   "outputs": [],
   "source": [
    "# GRADED FUNCTION: parse_data_from_input\n",
    "def parse_data_from_input(filename):\n",
    "    with open(filename) as file:\n",
    "        ### START CODE HERE\n",
    "\n",
    "        # Use csv.reader, passing in the appropriate delimiter\n",
    "        # Remember that csv.reader can be iterated and returns one line in each iteration\n",
    "        csv_reader = csv.reader(file, delimiter=',')\n",
    "        rows = np.asarray([row for row in csv_reader])\n",
    "\n",
    "        labels = rows[1:, 0].astype(np.float64)\n",
    "        images = rows[1:, 1:].astype(np.float64).reshape((-1, 28, 28))\n",
    "\n",
    "        ### END CODE HERE\n",
    "\n",
    "        return images, labels"
   ],
   "metadata": {
    "collapsed": false,
    "pycharm": {
     "name": "#%%\n"
    }
   }
  },
  {
   "cell_type": "code",
   "execution_count": 89,
   "outputs": [
    {
     "name": "stdout",
     "output_type": "stream",
     "text": [
      "Training images has shape: (27455, 28, 28)\n",
      "Training labels has shape: (27455,)\n",
      "Validation images has shape: (7172, 28, 28)\n",
      "Validation labels has shape: (7172,)\n"
     ]
    }
   ],
   "source": [
    "# Test your function\n",
    "training_images, training_labels = parse_data_from_input(TRAINING_FILE)\n",
    "validation_images, validation_labels = parse_data_from_input(VALIDATION_FILE)\n",
    "\n",
    "print(f\"Training images has shape: {training_images.shape}\")\n",
    "print(f\"Training labels has shape: {training_labels.shape}\")\n",
    "print(f\"Validation images has shape: {validation_images.shape}\")\n",
    "print(f\"Validation labels has shape: {validation_labels.shape}\")"
   ],
   "metadata": {
    "collapsed": false,
    "pycharm": {
     "name": "#%%\n"
    }
   }
  },
  {
   "cell_type": "markdown",
   "source": [
    "## Visualizing the numpy arrays\n",
    "\n",
    "Now that you have converted the initial csv data into a format that is compatible with computer vision tasks, take a moment to actually see how the images of the dataset look like:"
   ],
   "metadata": {
    "collapsed": false,
    "pycharm": {
     "name": "#%% md\n"
    }
   }
  },
  {
   "cell_type": "code",
   "execution_count": 90,
   "outputs": [
    {
     "data": {
      "text/plain": "<Figure size 1152x1080 with 10 Axes>",
      "image/png": "[encoded data removed]"
     },
     "metadata": {
      "needs_background": "light"
     },
     "output_type": "display_data"
    }
   ],
   "source": [
    "# Plot a sample of 10 images from the training set\n",
    "def plot_categories(training_images, training_labels):\n",
    "    fig, axes = plt.subplots(1, 10, figsize=(16, 15))\n",
    "    axes = axes.flatten()\n",
    "    letters = list(string.ascii_lowercase)\n",
    "\n",
    "    for k in range(10):\n",
    "        img = training_images[k]\n",
    "        img = np.expand_dims(img, axis=-1)\n",
    "        img = array_to_img(img)\n",
    "        ax = axes[k]\n",
    "        ax.imshow(img, cmap=\"Greys_r\")\n",
    "        ax.set_title(f\"{letters[int(training_labels[k])]}\")\n",
    "        ax.set_axis_off()\n",
    "\n",
    "    plt.tight_layout()\n",
    "    plt.show()\n",
    "\n",
    "\n",
    "plot_categories(training_images, training_labels)"
   ],
   "metadata": {
    "collapsed": false,
    "pycharm": {
     "name": "#%%\n"
    }
   }
  },
  {
   "cell_type": "markdown",
   "source": [
    "## Creating the generators for the CNN\n",
    "\n",
    "Now that you have successfully organized the data in a way that can be easily fed to Keras' `ImageDataGenerator`, it is time for you to code the generators that will yield batches of images, both for training and validation. For this complete the `train_val_generators` function below.\n",
    "\n",
    "Some important notes:\n",
    "\n",
    "- The images in this dataset come in the same resolution so you don't need to set a custom `target_size` in this case. In fact, you can't even do so because this time you will not be using the `flow_from_directory` method (as in previous assignments). Instead you will use the [`flow`](https://www.tensorflow.org/api_docs/python/tf/keras/preprocessing/image/ImageDataGenerator#flow) method.\n",
    "- You need to add the \"color\" dimension to the numpy arrays that encode the images. These are black and white images, so this new dimension should have a size of 1 (instead of 3, which is used when dealing with colored images). Take a look at the function [`np.expand_dims`](https://numpy.org/doc/stable/reference/generated/numpy.expand_dims.html) for this."
   ],
   "metadata": {
    "collapsed": false,
    "pycharm": {
     "name": "#%% md\n"
    }
   }
  },
  {
   "cell_type": "code",
   "execution_count": 195,
   "outputs": [],
   "source": [
    "# GRADED FUNCTION: train_val_generators\n",
    "def train_val_generators(training_images, training_labels, validation_images, validation_labels):\n",
    "    ### START CODE HERE\n",
    "\n",
    "    # In this section you will have to add another dimension to the data\n",
    "    # So, for example, if your array is (10000, 28, 28)\n",
    "    # You will need to make it (10000, 28, 28, 1)\n",
    "    # Hint: np.expand_dims\n",
    "    training_images = training_images[..., np.newaxis]\n",
    "    validation_images = validation_images[..., np.newaxis]\n",
    "\n",
    "    # Instantiate the ImageDataGenerator class\n",
    "    # Don't forget to normalize pixel values\n",
    "    # and set arguments to augment the images (if desired)\n",
    "    train_datagen = ImageDataGenerator(rescale=1 / 255.,\n",
    "                                       # horizontal_flip=True,\n",
    "                                       # rotation_range=0.2,\n",
    "                                       # width_shift_range=0.2,\n",
    "                                       # shear_range=0.2,\n",
    "                                       # height_shift_range=0.2,\n",
    "                                       zoom_range=0.2)\n",
    "\n",
    "    # Pass in the appropriate arguments to the flow method\n",
    "    train_generator = train_datagen.flow(x=training_images,\n",
    "                                         y=training_labels,\n",
    "                                         batch_size=32)\n",
    "\n",
    "    # Instantiate the ImageDataGenerator class (don't forget to set the rescale argument)\n",
    "    # Remember that validation data should not be augmented\n",
    "    validation_datagen = ImageDataGenerator(rescale=1 / 255.)\n",
    "\n",
    "    # Pass in the appropriate arguments to the flow method\n",
    "    validation_generator = validation_datagen.flow(x=validation_images,\n",
    "                                                   y=validation_labels,\n",
    "                                                   batch_size=32)\n",
    "\n",
    "    ### END CODE HERE\n",
    "\n",
    "    return train_generator, validation_generator"
   ],
   "metadata": {
    "collapsed": false,
    "pycharm": {
     "name": "#%%\n"
    }
   }
  },
  {
   "cell_type": "code",
   "execution_count": 196,
   "outputs": [
    {
     "name": "stdout",
     "output_type": "stream",
     "text": [
      "Images of training generator have shape: (27455, 28, 28, 1)\n",
      "Labels of training generator have shape: (27455,)\n",
      "Images of validation generator have shape: (7172, 28, 28, 1)\n",
      "Labels of validation generator have shape: (7172,)\n"
     ]
    }
   ],
   "source": [
    "# Test your generators\n",
    "train_generator, validation_generator = train_val_generators(training_images, training_labels, validation_images,\n",
    "                                                             validation_labels)\n",
    "\n",
    "print(f\"Images of training generator have shape: {train_generator.x.shape}\")\n",
    "print(f\"Labels of training generator have shape: {train_generator.y.shape}\")\n",
    "print(f\"Images of validation generator have shape: {validation_generator.x.shape}\")\n",
    "print(f\"Labels of validation generator have shape: {validation_generator.y.shape}\")"
   ],
   "metadata": {
    "collapsed": false,
    "pycharm": {
     "name": "#%%\n"
    }
   }
  },
  {
   "cell_type": "markdown",
   "source": [
    "## Coding the CNN\n",
    "\n",
    "One last step before training is to define the architecture of the model that will be trained.\n",
    "\n",
    "Complete the `create_model` function below. This function should return a Keras' model that uses the `Sequential` or the `Functional` API.\n",
    "\n",
    "The last layer of your model should have a number of units that corresponds to the number of possible categories, as well as the correct activation function.\n",
    "\n",
    "Aside from defining the architecture of the model, you should also compile it so make sure to use a `loss` function that is suitable for multi-class classification.\n",
    "\n",
    "**Note that you should use no more than 2 Conv2D and 2 MaxPooling2D layers to achieve the desired performance.**"
   ],
   "metadata": {
    "collapsed": false,
    "pycharm": {
     "name": "#%% md\n"
    }
   }
  },
  {
   "cell_type": "code",
   "execution_count": 203,
   "outputs": [],
   "source": [
    "def create_model():\n",
    "    ### START CODE HERE\n",
    "\n",
    "    # Define the model\n",
    "    # Use no more than 2 Conv2D and 2 MaxPooling2D\n",
    "    input_shape = (28, 28, 1)\n",
    "    input_model = tf.keras.layers.Input(input_shape)\n",
    "    x = tf.keras.layers.Conv2D(64, 3, activation='relu')(input_model)\n",
    "    x = tf.keras.layers.MaxPooling2D(2)(x)\n",
    "    x = tf.keras.layers.Conv2D(128, 3, activation='relu')(x)\n",
    "    x = tf.keras.layers.MaxPooling2D(2)(x)\n",
    "    # x = tf.keras.layers.Conv2D(256, 3, activation='relu')(x)\n",
    "    # x = tf.keras.layers.MaxPooling2D(2)(x)\n",
    "    x = tf.keras.layers.Flatten()(x)\n",
    "    x = tf.keras.layers.Dropout(0.2)(x)\n",
    "    # x = tf.keras.layers.Dense(512, activation='relu')(x)\n",
    "    x = tf.keras.layers.Dense(1024, activation='relu')(x)\n",
    "    x = tf.keras.layers.Dense(26, activation='softmax')(x)\n",
    "\n",
    "    model = tf.keras.Model(inputs=input_model, outputs=x)\n",
    "\n",
    "    from tensorflow.keras.optimizers import RMSprop, Adam\n",
    "\n",
    "    # model.compile(optimizer=SGD(learning_rate=0.01, momentum=0.9),\n",
    "    #               loss='sparse_categorical_crossentropy',\n",
    "    #               metrics=['accuracy'])\n",
    "    #\n",
    "    model.compile(optimizer=RMSprop(learning_rate=0.001),\n",
    "                  loss='sparse_categorical_crossentropy',\n",
    "                  metrics=['accuracy'])\n",
    "\n",
    "    # model.compile(optimizer=Adam(learning_rate=0.001),\n",
    "    #               loss='sparse_categorical_crossentropy',\n",
    "    #               metrics=['accuracy'])\n",
    "\n",
    "    ### END CODE HERE\n",
    "\n",
    "    return model"
   ],
   "metadata": {
    "collapsed": false,
    "pycharm": {
     "name": "#%%\n"
    }
   }
  },
  {
   "cell_type": "code",
   "execution_count": 204,
   "outputs": [
    {
     "name": "stdout",
     "output_type": "stream",
     "text": [
      "Epoch 1/15\n",
      "858/858 [==============================] - 10s 11ms/step - loss: 0.6204 - accuracy: 0.8058 - val_loss: 0.1946 - val_accuracy: 0.9407\n",
      "Epoch 2/15\n",
      "858/858 [==============================] - 9s 11ms/step - loss: 0.0518 - accuracy: 0.9842 - val_loss: 0.2173 - val_accuracy: 0.9557\n",
      "Epoch 3/15\n",
      "858/858 [==============================] - 9s 10ms/step - loss: 0.0199 - accuracy: 0.9936 - val_loss: 0.2503 - val_accuracy: 0.9538\n",
      "Epoch 4/15\n",
      "858/858 [==============================] - 8s 10ms/step - loss: 0.0130 - accuracy: 0.9953 - val_loss: 0.3569 - val_accuracy: 0.9331\n",
      "Epoch 5/15\n",
      "858/858 [==============================] - 9s 11ms/step - loss: 0.0096 - accuracy: 0.9971 - val_loss: 0.3642 - val_accuracy: 0.9506\n",
      "Epoch 6/15\n",
      "858/858 [==============================] - 8s 10ms/step - loss: 0.0077 - accuracy: 0.9976 - val_loss: 0.5720 - val_accuracy: 0.9308\n",
      "Epoch 7/15\n",
      "858/858 [==============================] - 9s 11ms/step - loss: 0.0059 - accuracy: 0.9981 - val_loss: 0.3585 - val_accuracy: 0.9594\n",
      "Epoch 8/15\n",
      "858/858 [==============================] - 7s 8ms/step - loss: 0.0066 - accuracy: 0.9979 - val_loss: 0.3442 - val_accuracy: 0.9656\n",
      "Epoch 9/15\n",
      "858/858 [==============================] - 6s 7ms/step - loss: 0.0068 - accuracy: 0.9980 - val_loss: 0.4059 - val_accuracy: 0.9499\n",
      "Epoch 10/15\n",
      "858/858 [==============================] - 6s 7ms/step - loss: 0.0039 - accuracy: 0.9988 - val_loss: 0.4989 - val_accuracy: 0.9536\n",
      "Epoch 11/15\n",
      "858/858 [==============================] - 7s 9ms/step - loss: 0.0044 - accuracy: 0.9988 - val_loss: 0.4948 - val_accuracy: 0.9562\n",
      "Epoch 12/15\n",
      "858/858 [==============================] - 10s 11ms/step - loss: 0.0041 - accuracy: 0.9988 - val_loss: 0.4727 - val_accuracy: 0.9619\n",
      "Epoch 13/15\n",
      "858/858 [==============================] - 9s 11ms/step - loss: 0.0052 - accuracy: 0.9987 - val_loss: 0.5343 - val_accuracy: 0.9554\n",
      "Epoch 14/15\n",
      "858/858 [==============================] - 9s 11ms/step - loss: 0.0039 - accuracy: 0.9991 - val_loss: 0.5675 - val_accuracy: 0.9573\n",
      "Epoch 15/15\n",
      "858/858 [==============================] - 9s 11ms/step - loss: 0.0014 - accuracy: 0.9995 - val_loss: 0.4556 - val_accuracy: 0.9665\n"
     ]
    }
   ],
   "source": [
    "# Save your model\n",
    "model = create_model()\n",
    "\n",
    "# Train your model\n",
    "history = model.fit(train_generator,\n",
    "                    epochs=15,\n",
    "                    validation_data=validation_generator,\n",
    "                    verbose=1)"
   ],
   "metadata": {
    "collapsed": false,
    "pycharm": {
     "name": "#%%\n"
    }
   }
  },
  {
   "cell_type": "markdown",
   "source": [
    "You will not be graded based on the accuracy of your model but try making it as high as possible for both training and validation, as an optional exercise, **after submitting your notebook for grading**.\n",
    "\n",
    "A reasonable benchmark is to achieve over 99% accuracy for training and over 95% accuracy for validation within 15 epochs. Try tweaking your model's architecture or the augmentation techniques to see if you can achieve these levels of accuracy."
   ],
   "metadata": {
    "collapsed": false,
    "pycharm": {
     "name": "#%% md\n"
    }
   }
  },
  {
   "cell_type": "code",
   "execution_count": 202,
   "outputs": [
    {
     "name": "stdout",
     "output_type": "stream",
     "text": [
      "Epoch 1/15\n",
      "858/858 [==============================] - 10s 11ms/step - loss: 1.2376 - accuracy: 0.6003 - val_loss: 0.3781 - val_accuracy: 0.8779\n",
      "Epoch 2/15\n",
      "858/858 [==============================] - 9s 11ms/step - loss: 0.1988 - accuracy: 0.9340 - val_loss: 0.1722 - val_accuracy: 0.9470\n",
      "Epoch 3/15\n",
      "858/858 [==============================] - 9s 11ms/step - loss: 0.0741 - accuracy: 0.9756 - val_loss: 0.2692 - val_accuracy: 0.9367\n",
      "Epoch 4/15\n",
      "858/858 [==============================] - 9s 11ms/step - loss: 0.0486 - accuracy: 0.9849 - val_loss: 0.2034 - val_accuracy: 0.9566\n",
      "Epoch 5/15\n",
      "858/858 [==============================] - 9s 11ms/step - loss: 0.0377 - accuracy: 0.9887 - val_loss: 0.2115 - val_accuracy: 0.9572\n",
      "Epoch 6/15\n",
      "858/858 [==============================] - 9s 11ms/step - loss: 0.0317 - accuracy: 0.9905 - val_loss: 0.2397 - val_accuracy: 0.9558\n",
      "Epoch 7/15\n",
      "858/858 [==============================] - 9s 11ms/step - loss: 0.0261 - accuracy: 0.9926 - val_loss: 0.2064 - val_accuracy: 0.9696\n",
      "Epoch 8/15\n",
      "858/858 [==============================] - 9s 11ms/step - loss: 0.0302 - accuracy: 0.9923 - val_loss: 0.1888 - val_accuracy: 0.9596\n",
      "Epoch 9/15\n",
      "858/858 [==============================] - 9s 11ms/step - loss: 0.0296 - accuracy: 0.9927 - val_loss: 0.2210 - val_accuracy: 0.9651\n",
      "Epoch 10/15\n",
      "858/858 [==============================] - 9s 11ms/step - loss: 0.0259 - accuracy: 0.9941 - val_loss: 0.2665 - val_accuracy: 0.9622\n",
      "Epoch 11/15\n",
      "858/858 [==============================] - 9s 11ms/step - loss: 0.0240 - accuracy: 0.9939 - val_loss: 0.2985 - val_accuracy: 0.9644\n",
      "Epoch 12/15\n",
      "858/858 [==============================] - 9s 11ms/step - loss: 0.0265 - accuracy: 0.9947 - val_loss: 0.1974 - val_accuracy: 0.9559\n",
      "Epoch 13/15\n",
      "858/858 [==============================] - 9s 11ms/step - loss: 0.0188 - accuracy: 0.9957 - val_loss: 0.2359 - val_accuracy: 0.9700\n",
      "Epoch 14/15\n",
      "858/858 [==============================] - 9s 10ms/step - loss: 0.0241 - accuracy: 0.9945 - val_loss: 0.4852 - val_accuracy: 0.9469\n",
      "Epoch 15/15\n",
      "858/858 [==============================] - 9s 11ms/step - loss: 0.0210 - accuracy: 0.9952 - val_loss: 0.2388 - val_accuracy: 0.9690\n"
     ]
    }
   ],
   "source": [
    "# Save your model\n",
    "# model = create_model()\n",
    "#\n",
    "# # Train your model\n",
    "# history = model.fit(train_generator,\n",
    "#                     epochs=15,\n",
    "#                     validation_data=validation_generator,\n",
    "#                     verbose=1)"
   ],
   "metadata": {
    "collapsed": false,
    "pycharm": {
     "name": "#%%\n"
    }
   }
  },
  {
   "cell_type": "code",
   "execution_count": null,
   "outputs": [],
   "source": [],
   "metadata": {
    "collapsed": false,
    "pycharm": {
     "name": "#%%\n"
    }
   }
  }
 ],
 "metadata": {
  "kernelspec": {
   "display_name": "Python 3",
   "language": "python",
   "name": "python3"
  },
  "language_info": {
   "codemirror_mode": {
    "name": "ipython",
    "version": 2
   },
   "file_extension": ".py",
   "mimetype": "text/x-python",
   "name": "python",
   "nbconvert_exporter": "python",
   "pygments_lexer": "ipython2",
   "version": "2.7.6"
  }
 },
 "nbformat": 4,
 "nbformat_minor": 0
}