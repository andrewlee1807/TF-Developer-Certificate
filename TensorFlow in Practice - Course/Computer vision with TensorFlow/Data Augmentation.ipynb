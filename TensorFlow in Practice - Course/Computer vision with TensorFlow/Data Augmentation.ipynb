{
 "cells": [
  {
   "cell_type": "markdown",
   "metadata": {
    "collapsed": true,
    "pycharm": {
     "name": "#%% md\n"
    }
   },
   "source": [
    "# Baseline Performance"
   ]
  },
  {
   "cell_type": "markdown",
   "source": [
    "You will start with a model that's very effective at learning Cats vs Dogs without data augmentation. It's similar to the previous models that you have used. Note that there are four convolutional layers with 32, 64, 128 and 128 convolutions respectively. The code is basically the same from the previous lab so we won't go over the details step by step since you've already seen it before.\n",
    "\n",
    "You will train only for 20 epochs to save time but feel free to increase this if you want."
   ],
   "metadata": {
    "collapsed": false,
    "pycharm": {
     "name": "#%% md\n"
    }
   }
  },
  {
   "cell_type": "code",
   "execution_count": 1,
   "outputs": [
    {
     "name": "stdout",
     "output_type": "stream",
     "text": [
      "Writing download.sh\n"
     ]
    }
   ],
   "source": [
    "% % writefile download.sh\n",
    "\n",
    "#!/bin/bash\n",
    "fileid = \"$1\"\n",
    "filename = \"$2\"\n",
    "html = `curl - c. / cookie - s - L\n",
    "\"https://drive.google.com/uc?export=download&id=${fileid}\"\n",
    "`\n",
    "curl - Lb. / cookie\n",
    "\"https://drive.google.com/uc?export=download&`echo ${html}|grep -Po '(confirm=[a-zA-Z0-9\\-_]+)'`&id=${fileid}\" - o ${\n",
    "    filename}"
   ],
   "metadata": {
    "collapsed": false,
    "pycharm": {
     "name": "#%%\n"
    }
   }
  },
  {
   "cell_type": "code",
   "execution_count": 2,
   "outputs": [
    {
     "name": "stdout",
     "output_type": "stream",
     "text": [
      "Windows Subsystem for Linux has no installed distributions.\n",
      "\n",
      "Distributions can be installed by visiting the Microsoft Store:\n",
      "\n",
      "https://aka.ms/wslstore\n",
      "\n"
     ]
    }
   ],
   "source": [
    "# Download the dataset\n",
    "!bash download.sh 1RL0T7Rg4XqQNRCkjfnLo4goOJQ7XZro9 cats_and_dogs_filtered.zip"
   ],
   "metadata": {
    "collapsed": false,
    "pycharm": {
     "name": "#%%\n"
    }
   }
  },
  {
   "cell_type": "code",
   "execution_count": 3,
   "outputs": [],
   "source": [
    "import os\n",
    "import zipfile\n",
    "\n",
    "# Extract the archive\n",
    "zip_ref = zipfile.ZipFile(\"./cats_and_dogs_filtered.zip\", 'r')\n",
    "zip_ref.extractall(\"\")\n",
    "zip_ref.close()\n",
    "\n",
    "# Assign training and validation set directories\n",
    "base_dir = './cats_and_dogs_filtered'\n",
    "train_dir = os.path.join(base_dir, 'train')\n",
    "validation_dir = os.path.join(base_dir, 'validation')\n",
    "\n",
    "# Directory with training cat pictures\n",
    "train_cats_dir = os.path.join(train_dir, 'cats')\n",
    "\n",
    "# Directory with training dog pictures\n",
    "train_dogs_dir = os.path.join(train_dir, 'dogs')\n",
    "\n",
    "# Directory with validation cat pictures\n",
    "validation_cats_dir = os.path.join(validation_dir, 'cats')\n",
    "\n",
    "# Directory with validation dog pictures\n",
    "validation_dogs_dir = os.path.join(validation_dir, 'dogs')"
   ],
   "metadata": {
    "collapsed": false,
    "pycharm": {
     "name": "#%%\n"
    }
   }
  },
  {
   "cell_type": "code",
   "execution_count": 4,
   "outputs": [],
   "source": [
    "import tensorflow as tf\n",
    "from tensorflow.keras.optimizers import RMSprop\n",
    "\n",
    "\n",
    "def create_model():\n",
    "    '''Creates a CNN with 4 convolutional layers'''\n",
    "    model = tf.keras.models.Sequential([\n",
    "        tf.keras.layers.Conv2D(32, (3, 3), activation='relu', input_shape=(150, 150, 3)),\n",
    "        tf.keras.layers.MaxPooling2D(2, 2),\n",
    "        tf.keras.layers.Conv2D(64, (3, 3), activation='relu'),\n",
    "        tf.keras.layers.MaxPooling2D(2, 2),\n",
    "        tf.keras.layers.Conv2D(128, (3, 3), activation='relu'),\n",
    "        tf.keras.layers.MaxPooling2D(2, 2),\n",
    "        tf.keras.layers.Conv2D(128, (3, 3), activation='relu'),\n",
    "        tf.keras.layers.MaxPooling2D(2, 2),\n",
    "        tf.keras.layers.Flatten(),\n",
    "        tf.keras.layers.Dense(512, activation='relu'),\n",
    "        tf.keras.layers.Dense(1, activation='sigmoid')\n",
    "    ])\n",
    "\n",
    "    model.compile(loss='binary_crossentropy',\n",
    "                  optimizer=RMSprop(learning_rate=1e-4),\n",
    "                  metrics=['accuracy'])\n",
    "\n",
    "    return model"
   ],
   "metadata": {
    "collapsed": false,
    "pycharm": {
     "name": "#%%\n"
    }
   }
  },
  {
   "cell_type": "code",
   "execution_count": 5,
   "outputs": [
    {
     "name": "stdout",
     "output_type": "stream",
     "text": [
      "Found 2000 images belonging to 2 classes.\n",
      "Found 1000 images belonging to 2 classes.\n"
     ]
    }
   ],
   "source": [
    "from tensorflow.keras.preprocessing.image import ImageDataGenerator\n",
    "\n",
    "# All images will be rescaled by 1./255\n",
    "train_datagen = ImageDataGenerator(rescale=1. / 255)\n",
    "test_datagen = ImageDataGenerator(rescale=1. / 255)\n",
    "\n",
    "# Flow training images in batches of 20 using train_datagen generator\n",
    "train_generator = train_datagen.flow_from_directory(\n",
    "    train_dir,  # This is the source directory for training images\n",
    "    target_size=(150, 150),  # All images will be resized to 150x150\n",
    "    batch_size=20,\n",
    "    # Since we use binary_crossentropy loss, we need binary labels\n",
    "    class_mode='binary')\n",
    "\n",
    "# Flow validation images in batches of 20 using test_datagen generator\n",
    "validation_generator = test_datagen.flow_from_directory(\n",
    "    validation_dir,\n",
    "    target_size=(150, 150),\n",
    "    batch_size=20,\n",
    "    class_mode='binary')"
   ],
   "metadata": {
    "collapsed": false,
    "pycharm": {
     "name": "#%%\n"
    }
   }
  },
  {
   "cell_type": "code",
   "execution_count": 6,
   "outputs": [
    {
     "name": "stdout",
     "output_type": "stream",
     "text": [
      "Epoch 1/20\n",
      "100/100 - 13s - loss: 0.6914 - accuracy: 0.5415 - val_loss: 0.6711 - val_accuracy: 0.5990 - 13s/epoch - 129ms/step\n",
      "Epoch 2/20\n",
      "100/100 - 4s - loss: 0.6585 - accuracy: 0.6175 - val_loss: 0.6792 - val_accuracy: 0.5190 - 4s/epoch - 40ms/step\n",
      "Epoch 3/20\n",
      "100/100 - 4s - loss: 0.6071 - accuracy: 0.6745 - val_loss: 0.5986 - val_accuracy: 0.6880 - 4s/epoch - 37ms/step\n",
      "Epoch 4/20\n",
      "100/100 - 4s - loss: 0.5719 - accuracy: 0.6925 - val_loss: 0.5875 - val_accuracy: 0.6800 - 4s/epoch - 37ms/step\n",
      "Epoch 5/20\n",
      "100/100 - 4s - loss: 0.5378 - accuracy: 0.7335 - val_loss: 0.5631 - val_accuracy: 0.7020 - 4s/epoch - 37ms/step\n",
      "Epoch 6/20\n",
      "100/100 - 4s - loss: 0.5145 - accuracy: 0.7570 - val_loss: 0.5553 - val_accuracy: 0.7210 - 4s/epoch - 36ms/step\n",
      "Epoch 7/20\n",
      "100/100 - 4s - loss: 0.4881 - accuracy: 0.7650 - val_loss: 0.5579 - val_accuracy: 0.7150 - 4s/epoch - 37ms/step\n",
      "Epoch 8/20\n",
      "100/100 - 4s - loss: 0.4614 - accuracy: 0.7825 - val_loss: 0.5429 - val_accuracy: 0.7350 - 4s/epoch - 36ms/step\n",
      "Epoch 9/20\n",
      "100/100 - 4s - loss: 0.4303 - accuracy: 0.8070 - val_loss: 0.5305 - val_accuracy: 0.7490 - 4s/epoch - 36ms/step\n",
      "Epoch 10/20\n",
      "100/100 - 4s - loss: 0.4108 - accuracy: 0.8085 - val_loss: 0.5824 - val_accuracy: 0.6980 - 4s/epoch - 40ms/step\n",
      "Epoch 11/20\n",
      "100/100 - 4s - loss: 0.3856 - accuracy: 0.8235 - val_loss: 0.5444 - val_accuracy: 0.7300 - 4s/epoch - 37ms/step\n",
      "Epoch 12/20\n",
      "100/100 - 4s - loss: 0.3584 - accuracy: 0.8485 - val_loss: 0.5910 - val_accuracy: 0.7210 - 4s/epoch - 39ms/step\n",
      "Epoch 13/20\n",
      "100/100 - 4s - loss: 0.3341 - accuracy: 0.8550 - val_loss: 0.5441 - val_accuracy: 0.7330 - 4s/epoch - 42ms/step\n",
      "Epoch 14/20\n",
      "100/100 - 4s - loss: 0.3152 - accuracy: 0.8620 - val_loss: 0.5746 - val_accuracy: 0.7370 - 4s/epoch - 43ms/step\n",
      "Epoch 15/20\n",
      "100/100 - 4s - loss: 0.2915 - accuracy: 0.8715 - val_loss: 0.5643 - val_accuracy: 0.7330 - 4s/epoch - 42ms/step\n",
      "Epoch 16/20\n",
      "100/100 - 4s - loss: 0.2667 - accuracy: 0.8880 - val_loss: 0.5597 - val_accuracy: 0.7450 - 4s/epoch - 43ms/step\n",
      "Epoch 17/20\n",
      "100/100 - 4s - loss: 0.2345 - accuracy: 0.9105 - val_loss: 0.5922 - val_accuracy: 0.7290 - 4s/epoch - 44ms/step\n",
      "Epoch 18/20\n",
      "100/100 - 4s - loss: 0.2204 - accuracy: 0.9135 - val_loss: 0.6081 - val_accuracy: 0.7250 - 4s/epoch - 44ms/step\n",
      "Epoch 19/20\n",
      "100/100 - 3s - loss: 0.2000 - accuracy: 0.9215 - val_loss: 0.7160 - val_accuracy: 0.7130 - 3s/epoch - 35ms/step\n",
      "Epoch 20/20\n",
      "100/100 - 4s - loss: 0.1773 - accuracy: 0.9420 - val_loss: 0.6563 - val_accuracy: 0.7320 - 4s/epoch - 37ms/step\n"
     ]
    }
   ],
   "source": [
    "# Constant for epochs\n",
    "EPOCHS = 20\n",
    "\n",
    "# Create a new model\n",
    "model = create_model()\n",
    "\n",
    "# Train the model\n",
    "history = model.fit(\n",
    "    train_generator,\n",
    "    steps_per_epoch=100,  # 2000 images = batch_size * steps\n",
    "    epochs=EPOCHS,\n",
    "    validation_data=validation_generator,\n",
    "    validation_steps=50,  # 1000 images = batch_size * steps\n",
    "    verbose=2)"
   ],
   "metadata": {
    "collapsed": false,
    "pycharm": {
     "name": "#%%\n"
    }
   }
  },
  {
   "cell_type": "code",
   "execution_count": 28,
   "outputs": [],
   "source": [
    "import matplotlib.pyplot as plt\n",
    "\n",
    "\n",
    "def plot_loss_acc(history):\n",
    "    '''Plots the training and validation loss and accuracy from a history object'''\n",
    "    acc = history.history['accuracy']\n",
    "    val_acc = history.history['val_accuracy']\n",
    "    loss = history.history['loss']\n",
    "    val_loss = history.history['val_loss']\n",
    "\n",
    "    epochs = range(len(acc))\n",
    "\n",
    "    plt.plot(epochs, acc, 'bo', label='Training accuracy')\n",
    "    plt.plot(epochs, val_acc, 'b', label='Validation accuracy')\n",
    "    plt.title('Training and validation accuracy')\n",
    "\n",
    "    plt.figure()\n",
    "\n",
    "    plt.plot(epochs, loss, 'bo', label='Training Loss')\n",
    "    plt.plot(epochs, val_loss, 'b', label='Validation Loss')\n",
    "    plt.title('Training and validation loss')\n",
    "    plt.legend()\n",
    "\n",
    "    plt.show()"
   ],
   "metadata": {
    "collapsed": false,
    "pycharm": {
     "name": "#%%\n"
    }
   }
  },
  {
   "cell_type": "code",
   "execution_count": 29,
   "outputs": [
    {
     "data": {
      "text/plain": "<Figure size 432x288 with 1 Axes>",
      "image/png": "[encoded data removed]"
     },
     "metadata": {
      "needs_background": "light"
     },
     "output_type": "display_data"
    },
    {
     "data": {
      "text/plain": "<Figure size 432x288 with 1 Axes>",
      "image/png": "[encoded data removed]"
     },
     "metadata": {
      "needs_background": "light"
     },
     "output_type": "display_data"
    }
   ],
   "source": [
    "# Plot training results\n",
    "plot_loss_acc(history)"
   ],
   "metadata": {
    "collapsed": false,
    "pycharm": {
     "name": "#%%\n"
    }
   }
  },
  {
   "cell_type": "markdown",
   "source": [
    "From the results above, you'll see the training accuracy is more than 90%, and the validation accuracy is in the 70%-80% range. This is a great example of overfitting -- which in short means that it can do very well with images it has seen before, but not so well with images it hasn't."
   ],
   "metadata": {
    "collapsed": false,
    "pycharm": {
     "name": "#%% md\n"
    }
   }
  },
  {
   "cell_type": "markdown",
   "source": [
    "# Data augmentation"
   ],
   "metadata": {
    "collapsed": false,
    "pycharm": {
     "name": "#%% md\n"
    }
   },
   "execution_count": 9
  },
  {
   "cell_type": "markdown",
   "source": [
    "One simple method to avoid overfitting is to augment the images a bit. If you think about it, most pictures of a cat are very similar -- the ears are at the top, then the eyes, then the mouth etc. Things like the distance between the eyes and ears will always be quite similar too.\n",
    "\n",
    "What if you tweak with the images a bit -- rotate the image, squash it, etc. That's what image augementation is all about. And there's an API that makes it easy!\n",
    "\n",
    "Take a look at the ImageDataGenerator which you have been using to rescale the image. There are other properties on it that you can use to augment the image.\n",
    "\n",
    "# Updated to do image augmentation\n",
    "train_datagen = ImageDataGenerator(\n",
    "      rotation_range=40,\n",
    "      width_shift_range=0.2,\n",
    "      height_shift_range=0.2,\n",
    "      shear_range=0.2,\n",
    "      zoom_range=0.2,\n",
    "      horizontal_flip=True,\n",
    "      fill_mode='nearest')\n",
    "These are just a few of the options available. Let's quickly go over it:\n",
    "\n",
    "rotation_range is a value in degrees (0–180) within which to randomly rotate pictures.\n",
    "width_shift and height_shift are ranges (as a fraction of total width or height) within which to randomly translate pictures vertically or horizontally.\n",
    "shear_range is for randomly applying shearing transformations.\n",
    "zoom_range is for randomly zooming inside pictures.\n",
    "horizontal_flip is for randomly flipping half of the images horizontally. This is relevant when there are no assumptions of horizontal assymmetry (e.g. real-world pictures).\n",
    "fill_mode is the strategy used for filling in newly created pixels, which can appear after a rotation or a width/height shift.\n",
    "Run the next cells to see the impact on the results. The code is similar to the baseline but the definition of train_datagen has been updated to use the parameters described above."
   ],
   "metadata": {
    "collapsed": false,
    "pycharm": {
     "name": "#%% md\n"
    }
   }
  },
  {
   "cell_type": "code",
   "execution_count": 30,
   "outputs": [
    {
     "name": "stdout",
     "output_type": "stream",
     "text": [
      "Found 2000 images belonging to 2 classes.\n",
      "Found 1000 images belonging to 2 classes.\n",
      "Epoch 1/100\n",
      "100/100 - 10s - loss: 0.6924 - accuracy: 0.5115 - val_loss: 0.6883 - val_accuracy: 0.4990 - 10s/epoch - 103ms/step\n",
      "Epoch 2/100\n",
      "100/100 - 9s - loss: 0.6780 - accuracy: 0.5650 - val_loss: 0.6475 - val_accuracy: 0.6320 - 9s/epoch - 90ms/step\n",
      "Epoch 3/100\n",
      "100/100 - 9s - loss: 0.6655 - accuracy: 0.5940 - val_loss: 0.6308 - val_accuracy: 0.6460 - 9s/epoch - 91ms/step\n",
      "Epoch 4/100\n",
      "100/100 - 8s - loss: 0.6496 - accuracy: 0.6200 - val_loss: 0.6260 - val_accuracy: 0.6490 - 8s/epoch - 84ms/step\n",
      "Epoch 5/100\n",
      "100/100 - 8s - loss: 0.6313 - accuracy: 0.6260 - val_loss: 0.5881 - val_accuracy: 0.6840 - 8s/epoch - 80ms/step\n",
      "Epoch 6/100\n",
      "100/100 - 8s - loss: 0.6187 - accuracy: 0.6640 - val_loss: 0.5753 - val_accuracy: 0.6900 - 8s/epoch - 82ms/step\n",
      "Epoch 7/100\n",
      "100/100 - 8s - loss: 0.6015 - accuracy: 0.6615 - val_loss: 0.5656 - val_accuracy: 0.6880 - 8s/epoch - 83ms/step\n",
      "Epoch 8/100\n",
      "100/100 - 9s - loss: 0.5950 - accuracy: 0.6830 - val_loss: 0.5844 - val_accuracy: 0.6790 - 9s/epoch - 88ms/step\n",
      "Epoch 9/100\n",
      "100/100 - 9s - loss: 0.5887 - accuracy: 0.6810 - val_loss: 0.5473 - val_accuracy: 0.7130 - 9s/epoch - 92ms/step\n",
      "Epoch 10/100\n",
      "100/100 - 8s - loss: 0.5785 - accuracy: 0.7005 - val_loss: 0.5473 - val_accuracy: 0.7080 - 8s/epoch - 84ms/step\n",
      "Epoch 11/100\n",
      "100/100 - 8s - loss: 0.5869 - accuracy: 0.6715 - val_loss: 0.5362 - val_accuracy: 0.7120 - 8s/epoch - 80ms/step\n",
      "Epoch 12/100\n",
      "100/100 - 9s - loss: 0.5643 - accuracy: 0.6945 - val_loss: 0.5810 - val_accuracy: 0.6880 - 9s/epoch - 91ms/step\n",
      "Epoch 13/100\n",
      "100/100 - 9s - loss: 0.5638 - accuracy: 0.7090 - val_loss: 0.5789 - val_accuracy: 0.6870 - 9s/epoch - 89ms/step\n",
      "Epoch 14/100\n",
      "100/100 - 10s - loss: 0.5556 - accuracy: 0.7140 - val_loss: 0.5676 - val_accuracy: 0.6960 - 10s/epoch - 103ms/step\n",
      "Epoch 15/100\n",
      "100/100 - 10s - loss: 0.5538 - accuracy: 0.7165 - val_loss: 0.5213 - val_accuracy: 0.7300 - 10s/epoch - 99ms/step\n",
      "Epoch 16/100\n",
      "100/100 - 10s - loss: 0.5549 - accuracy: 0.7040 - val_loss: 0.5007 - val_accuracy: 0.7400 - 10s/epoch - 100ms/step\n",
      "Epoch 17/100\n",
      "100/100 - 11s - loss: 0.5518 - accuracy: 0.7240 - val_loss: 0.5263 - val_accuracy: 0.7260 - 11s/epoch - 109ms/step\n",
      "Epoch 18/100\n",
      "100/100 - 10s - loss: 0.5435 - accuracy: 0.7215 - val_loss: 0.5127 - val_accuracy: 0.7330 - 10s/epoch - 102ms/step\n",
      "Epoch 19/100\n",
      "100/100 - 10s - loss: 0.5245 - accuracy: 0.7320 - val_loss: 0.5097 - val_accuracy: 0.7340 - 10s/epoch - 103ms/step\n",
      "Epoch 20/100\n",
      "100/100 - 11s - loss: 0.5301 - accuracy: 0.7335 - val_loss: 0.5040 - val_accuracy: 0.7340 - 11s/epoch - 109ms/step\n",
      "Epoch 21/100\n",
      "100/100 - 10s - loss: 0.5345 - accuracy: 0.7215 - val_loss: 0.4928 - val_accuracy: 0.7580 - 10s/epoch - 102ms/step\n",
      "Epoch 22/100\n",
      "100/100 - 10s - loss: 0.5185 - accuracy: 0.7370 - val_loss: 0.5063 - val_accuracy: 0.7340 - 10s/epoch - 100ms/step\n",
      "Epoch 23/100\n",
      "100/100 - 10s - loss: 0.5271 - accuracy: 0.7300 - val_loss: 0.4870 - val_accuracy: 0.7650 - 10s/epoch - 103ms/step\n",
      "Epoch 24/100\n",
      "100/100 - 11s - loss: 0.5204 - accuracy: 0.7325 - val_loss: 0.4898 - val_accuracy: 0.7520 - 11s/epoch - 106ms/step\n",
      "Epoch 25/100\n",
      "100/100 - 11s - loss: 0.5089 - accuracy: 0.7550 - val_loss: 0.4898 - val_accuracy: 0.7460 - 11s/epoch - 109ms/step\n",
      "Epoch 26/100\n",
      "100/100 - 10s - loss: 0.4993 - accuracy: 0.7560 - val_loss: 0.4742 - val_accuracy: 0.7560 - 10s/epoch - 102ms/step\n",
      "Epoch 27/100\n",
      "100/100 - 11s - loss: 0.5009 - accuracy: 0.7585 - val_loss: 0.4708 - val_accuracy: 0.7690 - 11s/epoch - 105ms/step\n",
      "Epoch 28/100\n",
      "100/100 - 10s - loss: 0.5078 - accuracy: 0.7545 - val_loss: 0.4668 - val_accuracy: 0.7680 - 10s/epoch - 103ms/step\n",
      "Epoch 29/100\n",
      "100/100 - 10s - loss: 0.4931 - accuracy: 0.7580 - val_loss: 0.5459 - val_accuracy: 0.7290 - 10s/epoch - 103ms/step\n",
      "Epoch 30/100\n",
      "100/100 - 11s - loss: 0.4896 - accuracy: 0.7530 - val_loss: 0.6382 - val_accuracy: 0.7010 - 11s/epoch - 107ms/step\n",
      "Epoch 31/100\n",
      "100/100 - 10s - loss: 0.4989 - accuracy: 0.7530 - val_loss: 0.4541 - val_accuracy: 0.7880 - 10s/epoch - 102ms/step\n",
      "Epoch 32/100\n",
      "100/100 - 10s - loss: 0.4920 - accuracy: 0.7625 - val_loss: 0.4470 - val_accuracy: 0.7830 - 10s/epoch - 98ms/step\n",
      "Epoch 33/100\n",
      "100/100 - 10s - loss: 0.4837 - accuracy: 0.7610 - val_loss: 0.4659 - val_accuracy: 0.7680 - 10s/epoch - 95ms/step\n",
      "Epoch 34/100\n",
      "100/100 - 10s - loss: 0.4810 - accuracy: 0.7700 - val_loss: 0.5230 - val_accuracy: 0.7580 - 10s/epoch - 99ms/step\n",
      "Epoch 35/100\n",
      "100/100 - 11s - loss: 0.4840 - accuracy: 0.7685 - val_loss: 0.5157 - val_accuracy: 0.7340 - 11s/epoch - 111ms/step\n",
      "Epoch 36/100\n",
      "100/100 - 11s - loss: 0.4747 - accuracy: 0.7780 - val_loss: 0.4840 - val_accuracy: 0.7460 - 11s/epoch - 109ms/step\n",
      "Epoch 37/100\n",
      "100/100 - 10s - loss: 0.4776 - accuracy: 0.7680 - val_loss: 0.4720 - val_accuracy: 0.7530 - 10s/epoch - 97ms/step\n",
      "Epoch 38/100\n",
      "100/100 - 10s - loss: 0.4848 - accuracy: 0.7535 - val_loss: 0.4826 - val_accuracy: 0.7590 - 10s/epoch - 95ms/step\n",
      "Epoch 39/100\n",
      "100/100 - 9s - loss: 0.4682 - accuracy: 0.7670 - val_loss: 0.4720 - val_accuracy: 0.7710 - 9s/epoch - 94ms/step\n",
      "Epoch 40/100\n",
      "100/100 - 10s - loss: 0.4769 - accuracy: 0.7625 - val_loss: 0.4581 - val_accuracy: 0.7740 - 10s/epoch - 96ms/step\n",
      "Epoch 41/100\n",
      "100/100 - 10s - loss: 0.4618 - accuracy: 0.7875 - val_loss: 0.4350 - val_accuracy: 0.8020 - 10s/epoch - 97ms/step\n",
      "Epoch 42/100\n",
      "100/100 - 9s - loss: 0.4636 - accuracy: 0.7655 - val_loss: 0.4438 - val_accuracy: 0.7860 - 9s/epoch - 95ms/step\n",
      "Epoch 43/100\n",
      "100/100 - 9s - loss: 0.4540 - accuracy: 0.7830 - val_loss: 0.4453 - val_accuracy: 0.7810 - 9s/epoch - 94ms/step\n",
      "Epoch 44/100\n",
      "100/100 - 9s - loss: 0.4651 - accuracy: 0.7690 - val_loss: 0.4543 - val_accuracy: 0.7790 - 9s/epoch - 93ms/step\n",
      "Epoch 45/100\n",
      "100/100 - 9s - loss: 0.4539 - accuracy: 0.7830 - val_loss: 0.5017 - val_accuracy: 0.7510 - 9s/epoch - 95ms/step\n",
      "Epoch 46/100\n",
      "100/100 - 10s - loss: 0.4571 - accuracy: 0.7825 - val_loss: 0.4497 - val_accuracy: 0.7800 - 10s/epoch - 95ms/step\n",
      "Epoch 47/100\n",
      "100/100 - 10s - loss: 0.4472 - accuracy: 0.7830 - val_loss: 0.4753 - val_accuracy: 0.7550 - 10s/epoch - 96ms/step\n",
      "Epoch 48/100\n",
      "100/100 - 10s - loss: 0.4490 - accuracy: 0.7920 - val_loss: 0.5012 - val_accuracy: 0.7430 - 10s/epoch - 99ms/step\n",
      "Epoch 49/100\n",
      "100/100 - 9s - loss: 0.4505 - accuracy: 0.7920 - val_loss: 0.4581 - val_accuracy: 0.7770 - 9s/epoch - 95ms/step\n",
      "Epoch 50/100\n",
      "100/100 - 9s - loss: 0.4326 - accuracy: 0.8015 - val_loss: 0.4577 - val_accuracy: 0.7830 - 9s/epoch - 90ms/step\n",
      "Epoch 51/100\n",
      "100/100 - 9s - loss: 0.4459 - accuracy: 0.8025 - val_loss: 0.4262 - val_accuracy: 0.7990 - 9s/epoch - 88ms/step\n",
      "Epoch 52/100\n",
      "100/100 - 8s - loss: 0.4324 - accuracy: 0.7995 - val_loss: 0.4948 - val_accuracy: 0.7640 - 8s/epoch - 84ms/step\n",
      "Epoch 53/100\n",
      "100/100 - 8s - loss: 0.4409 - accuracy: 0.7930 - val_loss: 0.4603 - val_accuracy: 0.7870 - 8s/epoch - 81ms/step\n",
      "Epoch 54/100\n",
      "100/100 - 8s - loss: 0.4423 - accuracy: 0.7885 - val_loss: 0.4434 - val_accuracy: 0.7770 - 8s/epoch - 82ms/step\n",
      "Epoch 55/100\n",
      "100/100 - 8s - loss: 0.4322 - accuracy: 0.7920 - val_loss: 0.4255 - val_accuracy: 0.7920 - 8s/epoch - 82ms/step\n",
      "Epoch 56/100\n",
      "100/100 - 8s - loss: 0.4339 - accuracy: 0.7975 - val_loss: 0.4248 - val_accuracy: 0.7980 - 8s/epoch - 81ms/step\n",
      "Epoch 57/100\n",
      "100/100 - 8s - loss: 0.4181 - accuracy: 0.8070 - val_loss: 0.4622 - val_accuracy: 0.7710 - 8s/epoch - 77ms/step\n",
      "Epoch 58/100\n",
      "100/100 - 8s - loss: 0.4337 - accuracy: 0.8005 - val_loss: 0.4402 - val_accuracy: 0.7910 - 8s/epoch - 76ms/step\n",
      "Epoch 59/100\n",
      "100/100 - 8s - loss: 0.4368 - accuracy: 0.8025 - val_loss: 0.4331 - val_accuracy: 0.7890 - 8s/epoch - 77ms/step\n",
      "Epoch 60/100\n",
      "100/100 - 9s - loss: 0.4239 - accuracy: 0.8040 - val_loss: 0.4259 - val_accuracy: 0.7970 - 9s/epoch - 94ms/step\n",
      "Epoch 61/100\n",
      "100/100 - 12s - loss: 0.4208 - accuracy: 0.7995 - val_loss: 0.4810 - val_accuracy: 0.7570 - 12s/epoch - 118ms/step\n",
      "Epoch 62/100\n",
      "100/100 - 10s - loss: 0.4112 - accuracy: 0.8020 - val_loss: 0.4896 - val_accuracy: 0.7680 - 10s/epoch - 99ms/step\n",
      "Epoch 63/100\n",
      "100/100 - 8s - loss: 0.4086 - accuracy: 0.8100 - val_loss: 0.4248 - val_accuracy: 0.8050 - 8s/epoch - 83ms/step\n",
      "Epoch 64/100\n",
      "100/100 - 9s - loss: 0.4285 - accuracy: 0.8035 - val_loss: 0.4836 - val_accuracy: 0.7720 - 9s/epoch - 93ms/step\n",
      "Epoch 65/100\n",
      "100/100 - 9s - loss: 0.4147 - accuracy: 0.8155 - val_loss: 0.4401 - val_accuracy: 0.7770 - 9s/epoch - 86ms/step\n",
      "Epoch 66/100\n",
      "100/100 - 8s - loss: 0.4045 - accuracy: 0.8110 - val_loss: 0.4252 - val_accuracy: 0.7930 - 8s/epoch - 84ms/step\n",
      "Epoch 67/100\n",
      "100/100 - 8s - loss: 0.4036 - accuracy: 0.8190 - val_loss: 0.4262 - val_accuracy: 0.8010 - 8s/epoch - 83ms/step\n",
      "Epoch 68/100\n",
      "100/100 - 8s - loss: 0.3977 - accuracy: 0.8155 - val_loss: 0.4398 - val_accuracy: 0.7920 - 8s/epoch - 80ms/step\n",
      "Epoch 69/100\n",
      "100/100 - 8s - loss: 0.4034 - accuracy: 0.8130 - val_loss: 0.4324 - val_accuracy: 0.7940 - 8s/epoch - 77ms/step\n",
      "Epoch 70/100\n",
      "100/100 - 10s - loss: 0.4149 - accuracy: 0.8050 - val_loss: 0.4293 - val_accuracy: 0.8040 - 10s/epoch - 103ms/step\n",
      "Epoch 71/100\n",
      "100/100 - 8s - loss: 0.3926 - accuracy: 0.8265 - val_loss: 0.4008 - val_accuracy: 0.8190 - 8s/epoch - 76ms/step\n",
      "Epoch 72/100\n",
      "100/100 - 8s - loss: 0.3837 - accuracy: 0.8205 - val_loss: 0.4238 - val_accuracy: 0.8010 - 8s/epoch - 83ms/step\n",
      "Epoch 73/100\n",
      "100/100 - 8s - loss: 0.3810 - accuracy: 0.8225 - val_loss: 0.4060 - val_accuracy: 0.8090 - 8s/epoch - 82ms/step\n",
      "Epoch 74/100\n",
      "100/100 - 8s - loss: 0.3847 - accuracy: 0.8275 - val_loss: 0.4076 - val_accuracy: 0.8070 - 8s/epoch - 77ms/step\n",
      "Epoch 75/100\n",
      "100/100 - 8s - loss: 0.3964 - accuracy: 0.8175 - val_loss: 0.4017 - val_accuracy: 0.8150 - 8s/epoch - 77ms/step\n",
      "Epoch 76/100\n",
      "100/100 - 8s - loss: 0.3836 - accuracy: 0.8230 - val_loss: 0.3995 - val_accuracy: 0.8080 - 8s/epoch - 77ms/step\n",
      "Epoch 77/100\n",
      "100/100 - 8s - loss: 0.4062 - accuracy: 0.8185 - val_loss: 0.4851 - val_accuracy: 0.7740 - 8s/epoch - 77ms/step\n",
      "Epoch 78/100\n",
      "100/100 - 8s - loss: 0.3818 - accuracy: 0.8305 - val_loss: 0.4153 - val_accuracy: 0.8130 - 8s/epoch - 80ms/step\n",
      "Epoch 79/100\n",
      "100/100 - 8s - loss: 0.3836 - accuracy: 0.8290 - val_loss: 0.5067 - val_accuracy: 0.7560 - 8s/epoch - 77ms/step\n",
      "Epoch 80/100\n",
      "100/100 - 8s - loss: 0.3765 - accuracy: 0.8275 - val_loss: 0.4670 - val_accuracy: 0.7800 - 8s/epoch - 80ms/step\n",
      "Epoch 81/100\n",
      "100/100 - 9s - loss: 0.3835 - accuracy: 0.8245 - val_loss: 0.4309 - val_accuracy: 0.8060 - 9s/epoch - 93ms/step\n",
      "Epoch 82/100\n",
      "100/100 - 10s - loss: 0.3822 - accuracy: 0.8310 - val_loss: 0.4166 - val_accuracy: 0.7910 - 10s/epoch - 96ms/step\n",
      "Epoch 83/100\n",
      "100/100 - 8s - loss: 0.3643 - accuracy: 0.8365 - val_loss: 0.3947 - val_accuracy: 0.8120 - 8s/epoch - 77ms/step\n",
      "Epoch 84/100\n",
      "100/100 - 10s - loss: 0.3716 - accuracy: 0.8370 - val_loss: 0.4409 - val_accuracy: 0.8010 - 10s/epoch - 100ms/step\n",
      "Epoch 85/100\n",
      "100/100 - 10s - loss: 0.3766 - accuracy: 0.8230 - val_loss: 0.3942 - val_accuracy: 0.8140 - 10s/epoch - 101ms/step\n",
      "Epoch 86/100\n",
      "100/100 - 10s - loss: 0.3824 - accuracy: 0.8425 - val_loss: 0.4497 - val_accuracy: 0.7790 - 10s/epoch - 101ms/step\n",
      "Epoch 87/100\n",
      "100/100 - 10s - loss: 0.3730 - accuracy: 0.8325 - val_loss: 0.6653 - val_accuracy: 0.7120 - 10s/epoch - 99ms/step\n",
      "Epoch 88/100\n",
      "100/100 - 10s - loss: 0.3523 - accuracy: 0.8360 - val_loss: 0.4113 - val_accuracy: 0.8060 - 10s/epoch - 95ms/step\n",
      "Epoch 89/100\n",
      "100/100 - 8s - loss: 0.3625 - accuracy: 0.8355 - val_loss: 0.4624 - val_accuracy: 0.7820 - 8s/epoch - 77ms/step\n",
      "Epoch 90/100\n",
      "100/100 - 8s - loss: 0.3640 - accuracy: 0.8420 - val_loss: 0.4102 - val_accuracy: 0.8020 - 8s/epoch - 76ms/step\n",
      "Epoch 91/100\n",
      "100/100 - 8s - loss: 0.3707 - accuracy: 0.8375 - val_loss: 0.3983 - val_accuracy: 0.8030 - 8s/epoch - 76ms/step\n",
      "Epoch 92/100\n",
      "100/100 - 8s - loss: 0.3548 - accuracy: 0.8455 - val_loss: 0.3896 - val_accuracy: 0.8090 - 8s/epoch - 82ms/step\n",
      "Epoch 93/100\n",
      "100/100 - 8s - loss: 0.3562 - accuracy: 0.8445 - val_loss: 0.4163 - val_accuracy: 0.7980 - 8s/epoch - 81ms/step\n",
      "Epoch 94/100\n",
      "100/100 - 8s - loss: 0.3427 - accuracy: 0.8495 - val_loss: 0.4047 - val_accuracy: 0.8120 - 8s/epoch - 82ms/step\n",
      "Epoch 95/100\n",
      "100/100 - 8s - loss: 0.3578 - accuracy: 0.8410 - val_loss: 0.4887 - val_accuracy: 0.7880 - 8s/epoch - 82ms/step\n",
      "Epoch 96/100\n",
      "100/100 - 8s - loss: 0.3682 - accuracy: 0.8440 - val_loss: 0.4821 - val_accuracy: 0.7820 - 8s/epoch - 79ms/step\n",
      "Epoch 97/100\n",
      "100/100 - 10s - loss: 0.3495 - accuracy: 0.8440 - val_loss: 0.3731 - val_accuracy: 0.8160 - 10s/epoch - 96ms/step\n",
      "Epoch 98/100\n",
      "100/100 - 9s - loss: 0.3585 - accuracy: 0.8445 - val_loss: 0.3766 - val_accuracy: 0.8250 - 9s/epoch - 90ms/step\n",
      "Epoch 99/100\n",
      "100/100 - 8s - loss: 0.3436 - accuracy: 0.8515 - val_loss: 0.3992 - val_accuracy: 0.8100 - 8s/epoch - 81ms/step\n",
      "Epoch 100/100\n",
      "100/100 - 8s - loss: 0.3467 - accuracy: 0.8470 - val_loss: 0.3982 - val_accuracy: 0.8180 - 8s/epoch - 77ms/step\n"
     ]
    }
   ],
   "source": [
    "# Create new model\n",
    "model_for_aug = create_model()\n",
    "\n",
    "# This code has changed. Now instead of the ImageGenerator just rescaling\n",
    "# the image, we also rotate and do other operations\n",
    "train_datagen = ImageDataGenerator(\n",
    "    rescale=1. / 255,\n",
    "    rotation_range=40,\n",
    "    width_shift_range=0.2,\n",
    "    height_shift_range=0.2,\n",
    "    shear_range=0.2,\n",
    "    zoom_range=0.2,\n",
    "    horizontal_flip=True,\n",
    "    fill_mode='nearest')\n",
    "\n",
    "test_datagen = ImageDataGenerator(rescale=1. / 255)\n",
    "\n",
    "# Flow training images in batches of 20 using train_datagen generator\n",
    "train_generator = train_datagen.flow_from_directory(\n",
    "    train_dir,  # This is the source directory for training images\n",
    "    target_size=(150, 150),  # All images will be resized to 150x150\n",
    "    batch_size=20,\n",
    "    # Since we use binary_crossentropy loss, we need binary labels\n",
    "    class_mode='binary')\n",
    "\n",
    "# Flow validation images in batches of 20 using test_datagen generator\n",
    "validation_generator = test_datagen.flow_from_directory(\n",
    "    validation_dir,\n",
    "    target_size=(150, 150),\n",
    "    batch_size=20,\n",
    "    class_mode='binary')\n",
    "\n",
    "# Train the new model\n",
    "history_with_aug = model_for_aug.fit(\n",
    "    train_generator,\n",
    "    steps_per_epoch=100,  # 2000 images = batch_size * steps\n",
    "    epochs=100,\n",
    "    validation_data=validation_generator,\n",
    "    validation_steps=50,  # 1000 images = batch_size * steps\n",
    "    verbose=2)"
   ],
   "metadata": {
    "collapsed": false,
    "pycharm": {
     "name": "#%%\n"
    }
   }
  },
  {
   "cell_type": "code",
   "execution_count": 31,
   "outputs": [
    {
     "data": {
      "text/plain": "<Figure size 432x288 with 1 Axes>",
      "image/png": "[encoded data removed]"
     },
     "metadata": {
      "needs_background": "light"
     },
     "output_type": "display_data"
    },
    {
     "data": {
      "text/plain": "<Figure size 432x288 with 1 Axes>",
      "image/png": "[encoded data removed]"
     },
     "metadata": {
      "needs_background": "light"
     },
     "output_type": "display_data"
    }
   ],
   "source": [
    "# Plot the results of training with data augmentation\n",
    "plot_loss_acc(history_with_aug)"
   ],
   "metadata": {
    "collapsed": false,
    "pycharm": {
     "name": "#%%\n"
    }
   }
  },
  {
   "cell_type": "markdown",
   "source": [
    "As you can see, the training accuracy has gone down compared to the baseline. This is expected because (as a result of data augmentation) there are more variety in the images so the model will need more runs to learn from them. The good thing is the validation accuracy is no longer stalling and is more in line with the training results. This means that the model is now performing better on unseen data.\n"
   ],
   "metadata": {
    "collapsed": false,
    "pycharm": {
     "name": "#%% md\n"
    }
   }
  },
  {
   "cell_type": "code",
   "execution_count": 34,
   "outputs": [
    {
     "name": "stdout",
     "output_type": "stream",
     "text": [
      "Epoch 1/20\n",
      "8/8 [==============================] - 2s 144ms/step - loss: 0.6945 - accuracy: 0.4812 - val_loss: 0.6905 - val_accuracy: 0.5250\n",
      "Epoch 2/20\n",
      "8/8 [==============================] - 1s 109ms/step - loss: 0.6926 - accuracy: 0.4938 - val_loss: 0.6920 - val_accuracy: 0.5000\n",
      "Epoch 3/20\n",
      "8/8 [==============================] - 1s 113ms/step - loss: 0.6948 - accuracy: 0.4688 - val_loss: 0.6916 - val_accuracy: 0.4812\n",
      "Epoch 4/20\n",
      "8/8 [==============================] - 1s 116ms/step - loss: 0.6913 - accuracy: 0.5125 - val_loss: 0.6897 - val_accuracy: 0.5250\n",
      "Epoch 5/20\n",
      "8/8 [==============================] - 1s 117ms/step - loss: 0.6913 - accuracy: 0.5125 - val_loss: 0.6919 - val_accuracy: 0.4938\n",
      "Epoch 6/20\n",
      "8/8 [==============================] - 1s 124ms/step - loss: 0.6818 - accuracy: 0.5813 - val_loss: 0.6919 - val_accuracy: 0.5250\n",
      "Epoch 7/20\n",
      "8/8 [==============================] - 1s 122ms/step - loss: 0.7016 - accuracy: 0.4688 - val_loss: 0.6894 - val_accuracy: 0.5312\n",
      "Epoch 8/20\n",
      "8/8 [==============================] - 1s 114ms/step - loss: 0.6909 - accuracy: 0.5188 - val_loss: 0.6881 - val_accuracy: 0.5000\n",
      "Epoch 9/20\n",
      "8/8 [==============================] - 1s 114ms/step - loss: 0.6956 - accuracy: 0.4500 - val_loss: 0.6894 - val_accuracy: 0.6313\n",
      "Epoch 10/20\n",
      "8/8 [==============================] - 1s 110ms/step - loss: 0.6866 - accuracy: 0.5938 - val_loss: 0.6916 - val_accuracy: 0.4875\n",
      "Epoch 11/20\n",
      "8/8 [==============================] - 1s 116ms/step - loss: 0.6901 - accuracy: 0.5188 - val_loss: 0.6881 - val_accuracy: 0.5188\n",
      "Epoch 12/20\n",
      "8/8 [==============================] - 1s 111ms/step - loss: 0.6961 - accuracy: 0.4500 - val_loss: 0.6907 - val_accuracy: 0.5688\n",
      "Epoch 13/20\n",
      "8/8 [==============================] - 1s 117ms/step - loss: 0.6913 - accuracy: 0.5562 - val_loss: 0.6902 - val_accuracy: 0.4750\n",
      "Epoch 14/20\n",
      "8/8 [==============================] - 1s 117ms/step - loss: 0.6922 - accuracy: 0.5000 - val_loss: 0.6912 - val_accuracy: 0.5125\n",
      "Epoch 15/20\n",
      "8/8 [==============================] - 1s 119ms/step - loss: 0.6911 - accuracy: 0.5562 - val_loss: 0.6926 - val_accuracy: 0.5188\n",
      "Epoch 16/20\n",
      "8/8 [==============================] - 1s 114ms/step - loss: 0.6912 - accuracy: 0.5188 - val_loss: 0.6872 - val_accuracy: 0.5625\n",
      "Epoch 17/20\n",
      "8/8 [==============================] - 1s 112ms/step - loss: 0.6883 - accuracy: 0.6250 - val_loss: 0.6842 - val_accuracy: 0.5813\n",
      "Epoch 18/20\n",
      "8/8 [==============================] - 1s 111ms/step - loss: 0.6814 - accuracy: 0.5562 - val_loss: 0.6969 - val_accuracy: 0.4750\n",
      "Epoch 19/20\n",
      "8/8 [==============================] - 1s 126ms/step - loss: 0.6845 - accuracy: 0.5500 - val_loss: 0.6894 - val_accuracy: 0.5063\n",
      "Epoch 20/20\n",
      "8/8 [==============================] - 1s 128ms/step - loss: 0.6745 - accuracy: 0.5875 - val_loss: 0.6942 - val_accuracy: 0.5000\n"
     ]
    }
   ],
   "source": [
    "# Build the model\n",
    "model = tf.keras.models.Sequential([\n",
    "    # Note the input shape is the desired size of the image 300x300 with 3 bytes color\n",
    "    # This is the first convolution\n",
    "    tf.keras.layers.Conv2D(16, (3, 3), activation='relu', input_shape=(150, 150, 3)),\n",
    "    tf.keras.layers.MaxPooling2D(2, 2),\n",
    "    # The second convolution\n",
    "    tf.keras.layers.Conv2D(32, (3, 3), activation='relu'),\n",
    "    tf.keras.layers.MaxPooling2D(2, 2),\n",
    "    # The third convolution\n",
    "    tf.keras.layers.Conv2D(64, (3, 3), activation='relu'),\n",
    "    tf.keras.layers.MaxPooling2D(2, 2),\n",
    "    # The fourth convolution\n",
    "    tf.keras.layers.Conv2D(64, (3, 3), activation='relu'),\n",
    "    tf.keras.layers.MaxPooling2D(2, 2),\n",
    "    # The fifth convolution\n",
    "    tf.keras.layers.Conv2D(64, (3, 3), activation='relu'),\n",
    "    tf.keras.layers.MaxPooling2D(2, 2),\n",
    "    # Flatten the results to feed into a DNN\n",
    "    tf.keras.layers.Flatten(),\n",
    "    # 512 neuron hidden layer\n",
    "    tf.keras.layers.Dense(512, activation='relu'),\n",
    "    # Only 1 output neuron. It will contain a value from 0-1 where 0 for 1 class ('horses') and 1 for the other ('humans')\n",
    "    tf.keras.layers.Dense(1, activation='sigmoid')\n",
    "])\n",
    "\n",
    "from tensorflow.keras.optimizers import RMSprop\n",
    "\n",
    "# Set training parameters\n",
    "model.compile(loss='binary_crossentropy',\n",
    "              optimizer=RMSprop(learning_rate=1e-4),\n",
    "              metrics=['accuracy'])\n",
    "\n",
    "# Constant for epochs\n",
    "EPOCHS = 20\n",
    "\n",
    "# Train the model\n",
    "history_with_augmentation = model.fit(\n",
    "    train_generator,\n",
    "    steps_per_epoch=8,\n",
    "    epochs=EPOCHS,\n",
    "    verbose=1,\n",
    "    validation_data=validation_generator,\n",
    "    validation_steps=8)"
   ],
   "metadata": {
    "collapsed": false,
    "pycharm": {
     "name": "#%%\n"
    }
   }
  },
  {
   "cell_type": "code",
   "execution_count": 33,
   "outputs": [
    {
     "data": {
      "text/plain": "<Figure size 432x288 with 1 Axes>",
      "image/png": "[encoded data removed]"
     },
     "metadata": {
      "needs_background": "light"
     },
     "output_type": "display_data"
    },
    {
     "data": {
      "text/plain": "<Figure size 432x288 with 1 Axes>",
      "image/png": "[encoded data removed]"
     },
     "metadata": {
      "needs_background": "light"
     },
     "output_type": "display_data"
    }
   ],
   "source": [
    "import matplotlib.pyplot as plt\n",
    "\n",
    "# Plot the model results\n",
    "acc = history.history['accuracy']\n",
    "val_acc = history.history['val_accuracy']\n",
    "loss = history.history['loss']\n",
    "val_loss = history.history['val_loss']\n",
    "\n",
    "epochs = range(len(acc))\n",
    "\n",
    "plt.plot(epochs, acc, 'r', label='Training accuracy')\n",
    "plt.plot(epochs, val_acc, 'b+', label='Validation accuracy')\n",
    "plt.title('Training and validation accuracy')\n",
    "\n",
    "plt.figure()\n",
    "\n",
    "plt.plot(epochs, loss, 'r', label='Training loss')\n",
    "plt.plot(epochs, loss, 'b+', label='Validation loss')\n",
    "plt.title('Training and validation loss')\n",
    "plt.legend()\n",
    "plt.show()\n"
   ],
   "metadata": {
    "collapsed": false,
    "pycharm": {
     "name": "#%%\n"
    }
   }
  },
  {
   "cell_type": "markdown",
   "source": [
    "As you can see in the results, the preprocessing techniques used in augmenting the data did not help much in the results. The validation accuracy is fluctuating and not trending up like the training accuracy. This might be because the additional training data generated still do not represent the features in the validation data. For example, some human or horse poses in the validation set cannot be mimicked by the image processing techniques that ImageDataGenerator provides. It might also be that the background of the training images are also learned so the white background of the validation set is throwing the model off even with cropping. Try looking at the validation images in the tmp/validation-horse-or-human directory (note: if you are using Colab, you can use the file explorer on the left to explore the images) and see if you can augment the training images to match its characteristics. If this is not possible, then at this point you can consider other techniques and you will see that in next week's lessons."
   ],
   "metadata": {
    "collapsed": false,
    "pycharm": {
     "name": "#%% md\n"
    }
   }
  },
  {
   "cell_type": "code",
   "execution_count": null,
   "outputs": [],
   "source": [],
   "metadata": {
    "collapsed": false,
    "pycharm": {
     "name": "#%%\n"
    }
   }
  }
 ],
 "metadata": {
  "kernelspec": {
   "display_name": "Python 3",
   "language": "python",
   "name": "python3"
  },
  "language_info": {
   "codemirror_mode": {
    "name": "ipython",
    "version": 2
   },
   "file_extension": ".py",
   "mimetype": "text/x-python",
   "name": "python",
   "nbconvert_exporter": "python",
   "pygments_lexer": "ipython2",
   "version": "2.7.6"
  }
 },
 "nbformat": 4,
 "nbformat_minor": 0
}