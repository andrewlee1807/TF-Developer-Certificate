{
 "cells": [
  {
   "cell_type": "code",
   "execution_count": 1,
   "metadata": {
    "collapsed": true
   },
   "outputs": [
    {
     "name": "stdout",
     "output_type": "stream",
     "text": [
      "2.7.0\n"
     ]
    }
   ],
   "source": [
    "import tensorflow as tf\n",
    "import numpy as np\n",
    "import matplotlib.pyplot as plt\n",
    "\n",
    "print(tf.__version__)"
   ]
  },
  {
   "cell_type": "code",
   "execution_count": 2,
   "outputs": [],
   "source": [
    "def plot_series(time, series, format=\"-\", start=0, end=None):\n",
    "    plt.plot(time[start:end], series[start:end], format)\n",
    "    plt.xlabel(\"Time\")\n",
    "    plt.ylabel(\"Value\")\n",
    "    plt.grid(True)\n",
    "\n",
    "\n",
    "def trend(time, slope=0):\n",
    "    return slope * time\n",
    "\n",
    "\n",
    "def seasonal_pattern(season_time):\n",
    "    \"\"\"Just an arbitrary pattern, you can change it if you wish\"\"\"\n",
    "    return np.where(season_time < 0.4,\n",
    "                    np.cos(season_time * 2 * np.pi),\n",
    "                    1 / np.exp(3 * season_time))\n",
    "\n",
    "\n",
    "def seasonality(time, period, amplitude=1, phase=0):\n",
    "    \"\"\"Repeats the same pattern at each period\"\"\"\n",
    "    season_time = ((time + phase) % period) / period\n",
    "    return amplitude * seasonal_pattern(season_time)\n",
    "\n",
    "\n",
    "def noise(time, noise_level=1, seed=None):\n",
    "    rnd = np.random.RandomState(seed)\n",
    "    return rnd.randn(len(time)) * noise_level\n",
    "\n",
    "\n",
    "time = np.arange(4 * 365 + 1, dtype=\"float32\")\n",
    "baseline = 10\n",
    "series = trend(time, 0.1)\n",
    "baseline = 10\n",
    "amplitude = 40\n",
    "slope = 0.05\n",
    "noise_level = 5\n",
    "\n",
    "# Create the series\n",
    "series = baseline + trend(time, slope) + seasonality(time, period=365, amplitude=amplitude)\n",
    "# Update with noise\n",
    "series += noise(time, noise_level, seed=42)\n",
    "\n",
    "split_time = 1000\n",
    "time_train = time[:split_time]\n",
    "x_train = series[:split_time]\n",
    "time_valid = time[split_time:]\n",
    "x_valid = series[split_time:]\n",
    "\n",
    "window_size = 20\n",
    "batch_size = 32\n",
    "shuffle_buffer_size = 1000"
   ],
   "metadata": {
    "collapsed": false,
    "pycharm": {
     "name": "#%%\n"
    }
   }
  },
  {
   "cell_type": "code",
   "execution_count": 3,
   "outputs": [],
   "source": [
    "def windowed_dataset(series, window_size, batch_size, shuffle_buffer):\n",
    "    series = tf.expand_dims(series, axis=-1)\n",
    "    ds = tf.data.Dataset.from_tensor_slices(series)\n",
    "    ds = ds.window(window_size + 1, shift=1, drop_remainder=True)\n",
    "    ds = ds.flat_map(lambda w: w.batch(window_size + 1))\n",
    "    ds = ds.shuffle(shuffle_buffer)\n",
    "    ds = ds.map(lambda w: (w[:-1], w[1:]))\n",
    "    return ds.batch(batch_size).prefetch(1)"
   ],
   "metadata": {
    "collapsed": false,
    "pycharm": {
     "name": "#%%\n"
    }
   }
  },
  {
   "cell_type": "code",
   "execution_count": 4,
   "outputs": [],
   "source": [
    "def model_forecast(model, series, window_size):\n",
    "    ds = tf.data.Dataset.from_tensor_slices(series)\n",
    "    ds = ds.window(window_size, shift=1, drop_remainder=True)\n",
    "    ds = ds.flat_map(lambda w: w.batch(window_size))\n",
    "    ds = ds.batch(32).prefetch(1)\n",
    "    forecast = model.predict(ds)\n",
    "    return forecast"
   ],
   "metadata": {
    "collapsed": false,
    "pycharm": {
     "name": "#%%\n"
    }
   }
  },
  {
   "cell_type": "code",
   "execution_count": 5,
   "outputs": [
    {
     "name": "stdout",
     "output_type": "stream",
     "text": [
      "Model: \"sequential\"\n",
      "_________________________________________________________________\n",
      " Layer (type)                Output Shape              Param #   \n",
      "=================================================================\n",
      " conv1d (Conv1D)             (None, None, 32)          192       \n",
      "                                                                 \n",
      " bidirectional (Bidirectiona  (None, None, 64)         16640     \n",
      " l)                                                              \n",
      "                                                                 \n",
      " bidirectional_1 (Bidirectio  (None, None, 64)         24832     \n",
      " nal)                                                            \n",
      "                                                                 \n",
      " dense (Dense)               (None, None, 1)           65        \n",
      "                                                                 \n",
      " lambda (Lambda)             (None, None, 1)           0         \n",
      "                                                                 \n",
      "=================================================================\n",
      "Total params: 41,729\n",
      "Trainable params: 41,729\n",
      "Non-trainable params: 0\n",
      "_________________________________________________________________\n",
      "Epoch 1/100\n",
      "8/8 [==============================] - 15s 125ms/step - loss: 73.1912 - mae: 73.6904 - lr: 1.0000e-08\n",
      "Epoch 2/100\n",
      "8/8 [==============================] - 0s 29ms/step - loss: 72.4799 - mae: 72.9791 - lr: 1.1220e-08\n",
      "Epoch 3/100\n",
      "8/8 [==============================] - 0s 36ms/step - loss: 71.3446 - mae: 71.8437 - lr: 1.2589e-08\n",
      "Epoch 4/100\n",
      "8/8 [==============================] - 0s 30ms/step - loss: 69.9230 - mae: 70.4223 - lr: 1.4125e-08\n",
      "Epoch 5/100\n",
      "8/8 [==============================] - 0s 34ms/step - loss: 68.2678 - mae: 68.7669 - lr: 1.5849e-08\n",
      "Epoch 6/100\n",
      "8/8 [==============================] - 0s 34ms/step - loss: 66.3621 - mae: 66.8609 - lr: 1.7783e-08\n",
      "Epoch 7/100\n",
      "8/8 [==============================] - 0s 35ms/step - loss: 64.2432 - mae: 64.7424 - lr: 1.9953e-08\n",
      "Epoch 8/100\n",
      "8/8 [==============================] - 0s 35ms/step - loss: 61.8749 - mae: 62.3738 - lr: 2.2387e-08\n",
      "Epoch 9/100\n",
      "8/8 [==============================] - 0s 35ms/step - loss: 59.2491 - mae: 59.7479 - lr: 2.5119e-08\n",
      "Epoch 10/100\n",
      "8/8 [==============================] - 0s 35ms/step - loss: 56.3267 - mae: 56.8254 - lr: 2.8184e-08\n",
      "Epoch 11/100\n",
      "8/8 [==============================] - 0s 35ms/step - loss: 53.0701 - mae: 53.5686 - lr: 3.1623e-08\n",
      "Epoch 12/100\n",
      "8/8 [==============================] - 1s 89ms/step - loss: 49.3867 - mae: 49.8849 - lr: 3.5481e-08\n",
      "Epoch 13/100\n",
      "8/8 [==============================] - 0s 36ms/step - loss: 45.1182 - mae: 45.6165 - lr: 3.9811e-08\n",
      "Epoch 14/100\n",
      "8/8 [==============================] - 0s 33ms/step - loss: 41.6538 - mae: 42.1518 - lr: 4.4668e-08\n",
      "Epoch 15/100\n",
      "8/8 [==============================] - 0s 33ms/step - loss: 40.6341 - mae: 41.1322 - lr: 5.0119e-08\n",
      "Epoch 16/100\n",
      "8/8 [==============================] - 0s 34ms/step - loss: 39.5119 - mae: 40.0100 - lr: 5.6234e-08\n",
      "Epoch 17/100\n",
      "8/8 [==============================] - 0s 33ms/step - loss: 38.1009 - mae: 38.5985 - lr: 6.3096e-08\n",
      "Epoch 18/100\n",
      "8/8 [==============================] - 0s 31ms/step - loss: 36.5304 - mae: 37.0279 - lr: 7.0795e-08\n",
      "Epoch 19/100\n",
      "8/8 [==============================] - 0s 33ms/step - loss: 34.9672 - mae: 35.4641 - lr: 7.9433e-08\n",
      "Epoch 20/100\n",
      "8/8 [==============================] - 0s 33ms/step - loss: 33.5379 - mae: 34.0347 - lr: 8.9125e-08\n",
      "Epoch 21/100\n",
      "8/8 [==============================] - 0s 31ms/step - loss: 32.2358 - mae: 32.7321 - lr: 1.0000e-07\n",
      "Epoch 22/100\n",
      "8/8 [==============================] - 0s 35ms/step - loss: 31.0509 - mae: 31.5469 - lr: 1.1220e-07\n",
      "Epoch 23/100\n",
      "8/8 [==============================] - 0s 36ms/step - loss: 29.9243 - mae: 30.4202 - lr: 1.2589e-07\n",
      "Epoch 24/100\n",
      "8/8 [==============================] - 0s 35ms/step - loss: 28.8317 - mae: 29.3274 - lr: 1.4125e-07\n",
      "Epoch 25/100\n",
      "8/8 [==============================] - 0s 34ms/step - loss: 27.7314 - mae: 28.2272 - lr: 1.5849e-07\n",
      "Epoch 26/100\n",
      "8/8 [==============================] - 0s 33ms/step - loss: 26.6107 - mae: 27.1066 - lr: 1.7783e-07\n",
      "Epoch 27/100\n",
      "8/8 [==============================] - 0s 38ms/step - loss: 25.4565 - mae: 25.9519 - lr: 1.9953e-07\n",
      "Epoch 28/100\n",
      "8/8 [==============================] - 0s 43ms/step - loss: 24.2668 - mae: 24.7617 - lr: 2.2387e-07\n",
      "Epoch 29/100\n",
      "8/8 [==============================] - 0s 44ms/step - loss: 23.0459 - mae: 23.5406 - lr: 2.5119e-07\n",
      "Epoch 30/100\n",
      "8/8 [==============================] - 0s 43ms/step - loss: 21.8057 - mae: 22.3000 - lr: 2.8184e-07\n",
      "Epoch 31/100\n",
      "8/8 [==============================] - 0s 40ms/step - loss: 20.5264 - mae: 21.0202 - lr: 3.1623e-07\n",
      "Epoch 32/100\n",
      "8/8 [==============================] - 0s 34ms/step - loss: 19.2341 - mae: 19.7269 - lr: 3.5481e-07\n",
      "Epoch 33/100\n",
      "8/8 [==============================] - 0s 35ms/step - loss: 17.9646 - mae: 18.4568 - lr: 3.9811e-07\n",
      "Epoch 34/100\n",
      "8/8 [==============================] - 0s 33ms/step - loss: 16.9362 - mae: 17.4279 - lr: 4.4668e-07\n",
      "Epoch 35/100\n",
      "8/8 [==============================] - 0s 33ms/step - loss: 16.2657 - mae: 16.7576 - lr: 5.0119e-07\n",
      "Epoch 36/100\n",
      "8/8 [==============================] - 0s 31ms/step - loss: 15.6281 - mae: 16.1192 - lr: 5.6234e-07\n",
      "Epoch 37/100\n",
      "8/8 [==============================] - 0s 35ms/step - loss: 15.0540 - mae: 15.5447 - lr: 6.3096e-07\n",
      "Epoch 38/100\n",
      "8/8 [==============================] - 0s 33ms/step - loss: 14.5219 - mae: 15.0126 - lr: 7.0795e-07\n",
      "Epoch 39/100\n",
      "8/8 [==============================] - 0s 33ms/step - loss: 13.9836 - mae: 14.4747 - lr: 7.9433e-07\n",
      "Epoch 40/100\n",
      "8/8 [==============================] - 0s 35ms/step - loss: 13.4414 - mae: 13.9318 - lr: 8.9125e-07\n",
      "Epoch 41/100\n",
      "8/8 [==============================] - 0s 35ms/step - loss: 12.8781 - mae: 13.3677 - lr: 1.0000e-06\n",
      "Epoch 42/100\n",
      "8/8 [==============================] - 0s 35ms/step - loss: 12.2855 - mae: 12.7749 - lr: 1.1220e-06\n",
      "Epoch 43/100\n",
      "8/8 [==============================] - 0s 35ms/step - loss: 11.6690 - mae: 12.1582 - lr: 1.2589e-06\n",
      "Epoch 44/100\n",
      "8/8 [==============================] - 0s 35ms/step - loss: 11.0181 - mae: 11.5063 - lr: 1.4125e-06\n",
      "Epoch 45/100\n",
      "8/8 [==============================] - 0s 30ms/step - loss: 10.3387 - mae: 10.8260 - lr: 1.5849e-06\n",
      "Epoch 46/100\n",
      "8/8 [==============================] - 0s 34ms/step - loss: 9.6894 - mae: 10.1757 - lr: 1.7783e-06\n",
      "Epoch 47/100\n",
      "8/8 [==============================] - 0s 33ms/step - loss: 9.0956 - mae: 9.5809 - lr: 1.9953e-06\n",
      "Epoch 48/100\n",
      "8/8 [==============================] - 0s 33ms/step - loss: 8.5688 - mae: 9.0536 - lr: 2.2387e-06\n",
      "Epoch 49/100\n",
      "8/8 [==============================] - 0s 33ms/step - loss: 8.1153 - mae: 8.5996 - lr: 2.5119e-06\n",
      "Epoch 50/100\n",
      "8/8 [==============================] - 0s 35ms/step - loss: 7.7040 - mae: 8.1884 - lr: 2.8184e-06\n",
      "Epoch 51/100\n",
      "8/8 [==============================] - 0s 34ms/step - loss: 7.3262 - mae: 7.8096 - lr: 3.1623e-06\n",
      "Epoch 52/100\n",
      "8/8 [==============================] - 0s 35ms/step - loss: 6.9725 - mae: 7.4548 - lr: 3.5481e-06\n",
      "Epoch 53/100\n",
      "8/8 [==============================] - 0s 35ms/step - loss: 6.6218 - mae: 7.1033 - lr: 3.9811e-06\n",
      "Epoch 54/100\n",
      "8/8 [==============================] - 0s 34ms/step - loss: 6.2898 - mae: 6.7712 - lr: 4.4668e-06\n",
      "Epoch 55/100\n",
      "8/8 [==============================] - 0s 32ms/step - loss: 5.9775 - mae: 6.4581 - lr: 5.0119e-06\n",
      "Epoch 56/100\n",
      "8/8 [==============================] - 0s 33ms/step - loss: 5.7096 - mae: 6.1898 - lr: 5.6234e-06\n",
      "Epoch 57/100\n",
      "8/8 [==============================] - 0s 33ms/step - loss: 5.4204 - mae: 5.8992 - lr: 6.3096e-06\n",
      "Epoch 58/100\n",
      "8/8 [==============================] - 0s 34ms/step - loss: 5.2126 - mae: 5.6904 - lr: 7.0795e-06\n",
      "Epoch 59/100\n",
      "8/8 [==============================] - 0s 35ms/step - loss: 4.9788 - mae: 5.4558 - lr: 7.9433e-06\n",
      "Epoch 60/100\n",
      "8/8 [==============================] - 0s 32ms/step - loss: 4.8674 - mae: 5.3438 - lr: 8.9125e-06\n",
      "Epoch 61/100\n",
      "8/8 [==============================] - 0s 33ms/step - loss: 4.7943 - mae: 5.2711 - lr: 1.0000e-05\n",
      "Epoch 62/100\n",
      "8/8 [==============================] - 0s 33ms/step - loss: 4.6056 - mae: 5.0814 - lr: 1.1220e-05\n",
      "Epoch 63/100\n",
      "8/8 [==============================] - 0s 33ms/step - loss: 4.7894 - mae: 5.2667 - lr: 1.2589e-05\n",
      "Epoch 64/100\n",
      "8/8 [==============================] - 0s 33ms/step - loss: 5.3930 - mae: 5.8743 - lr: 1.4125e-05\n",
      "Epoch 65/100\n",
      "8/8 [==============================] - 0s 34ms/step - loss: 5.8703 - mae: 6.3536 - lr: 1.5849e-05\n",
      "Epoch 66/100\n",
      "8/8 [==============================] - 0s 31ms/step - loss: 5.9409 - mae: 6.4243 - lr: 1.7783e-05\n",
      "Epoch 67/100\n",
      "8/8 [==============================] - 0s 33ms/step - loss: 4.9877 - mae: 5.4683 - lr: 1.9953e-05\n",
      "Epoch 68/100\n",
      "8/8 [==============================] - 0s 33ms/step - loss: 4.9465 - mae: 5.4257 - lr: 2.2387e-05\n",
      "Epoch 69/100\n",
      "8/8 [==============================] - 0s 33ms/step - loss: 5.5055 - mae: 5.9878 - lr: 2.5119e-05\n",
      "Epoch 70/100\n",
      "8/8 [==============================] - 0s 34ms/step - loss: 6.2258 - mae: 6.7107 - lr: 2.8184e-05\n",
      "Epoch 71/100\n",
      "8/8 [==============================] - 0s 34ms/step - loss: 6.2026 - mae: 6.6858 - lr: 3.1623e-05\n",
      "Epoch 72/100\n",
      "8/8 [==============================] - 0s 32ms/step - loss: 7.9304 - mae: 8.4167 - lr: 3.5481e-05\n",
      "Epoch 73/100\n",
      "8/8 [==============================] - 0s 32ms/step - loss: 10.9965 - mae: 11.4859 - lr: 3.9811e-05\n",
      "Epoch 74/100\n",
      "8/8 [==============================] - 0s 34ms/step - loss: 40.1380 - mae: 40.6362 - lr: 4.4668e-05\n",
      "Epoch 75/100\n",
      "8/8 [==============================] - 0s 33ms/step - loss: 22.6270 - mae: 23.1225 - lr: 5.0119e-05\n",
      "Epoch 76/100\n",
      "8/8 [==============================] - 0s 35ms/step - loss: 12.2020 - mae: 12.6931 - lr: 5.6234e-05\n",
      "Epoch 77/100\n",
      "8/8 [==============================] - 0s 35ms/step - loss: 17.8403 - mae: 18.3352 - lr: 6.3096e-05\n",
      "Epoch 78/100\n",
      "8/8 [==============================] - 0s 35ms/step - loss: 16.3986 - mae: 16.8932 - lr: 7.0795e-05\n",
      "Epoch 79/100\n",
      "8/8 [==============================] - 0s 35ms/step - loss: 14.7583 - mae: 15.2514 - lr: 7.9433e-05\n",
      "Epoch 80/100\n",
      "8/8 [==============================] - 0s 33ms/step - loss: 14.4043 - mae: 14.8973 - lr: 8.9125e-05\n",
      "Epoch 81/100\n",
      "8/8 [==============================] - 0s 33ms/step - loss: 17.1525 - mae: 17.6465 - lr: 1.0000e-04\n",
      "Epoch 82/100\n",
      "8/8 [==============================] - 0s 35ms/step - loss: 22.1298 - mae: 22.6258 - lr: 1.1220e-04\n",
      "Epoch 83/100\n",
      "8/8 [==============================] - 0s 32ms/step - loss: 26.9940 - mae: 27.4912 - lr: 1.2589e-04\n",
      "Epoch 84/100\n",
      "8/8 [==============================] - 0s 30ms/step - loss: 19.3380 - mae: 19.8328 - lr: 1.4125e-04\n",
      "Epoch 85/100\n",
      "8/8 [==============================] - 0s 33ms/step - loss: 19.5750 - mae: 20.0691 - lr: 1.5849e-04\n",
      "Epoch 86/100\n",
      "8/8 [==============================] - 0s 35ms/step - loss: 19.4944 - mae: 19.9900 - lr: 1.7783e-04\n",
      "Epoch 87/100\n",
      "8/8 [==============================] - 0s 33ms/step - loss: 29.8678 - mae: 30.3649 - lr: 1.9953e-04\n",
      "Epoch 88/100\n",
      "8/8 [==============================] - 0s 33ms/step - loss: 20.1527 - mae: 20.6470 - lr: 2.2387e-04\n",
      "Epoch 89/100\n",
      "8/8 [==============================] - 0s 31ms/step - loss: 17.3701 - mae: 17.8647 - lr: 2.5119e-04\n",
      "Epoch 90/100\n",
      "8/8 [==============================] - 0s 35ms/step - loss: 15.9270 - mae: 16.4208 - lr: 2.8184e-04\n",
      "Epoch 91/100\n",
      "8/8 [==============================] - 0s 33ms/step - loss: 16.3740 - mae: 16.8671 - lr: 3.1623e-04\n",
      "Epoch 92/100\n",
      "8/8 [==============================] - 0s 45ms/step - loss: 16.3237 - mae: 16.8179 - lr: 3.5481e-04\n",
      "Epoch 93/100\n",
      "8/8 [==============================] - 0s 33ms/step - loss: 19.6261 - mae: 20.1216 - lr: 3.9811e-04\n",
      "Epoch 94/100\n",
      "8/8 [==============================] - 0s 36ms/step - loss: 18.7771 - mae: 19.2727 - lr: 4.4668e-04\n",
      "Epoch 95/100\n",
      "8/8 [==============================] - 0s 33ms/step - loss: 16.6765 - mae: 17.1702 - lr: 5.0119e-04\n",
      "Epoch 96/100\n",
      "8/8 [==============================] - 0s 33ms/step - loss: 14.7754 - mae: 15.2690 - lr: 5.6234e-04\n",
      "Epoch 97/100\n",
      "8/8 [==============================] - 0s 34ms/step - loss: 14.3849 - mae: 14.8779 - lr: 6.3096e-04\n",
      "Epoch 98/100\n",
      "8/8 [==============================] - 0s 35ms/step - loss: 32.2447 - mae: 32.7419 - lr: 7.0795e-04\n",
      "Epoch 99/100\n",
      "8/8 [==============================] - 0s 40ms/step - loss: 34.6869 - mae: 35.1850 - lr: 7.9433e-04\n",
      "Epoch 100/100\n",
      "8/8 [==============================] - 0s 38ms/step - loss: 21.2774 - mae: 21.7728 - lr: 8.9125e-04\n"
     ]
    }
   ],
   "source": [
    "tf.keras.backend.clear_session()\n",
    "tf.random.set_seed(51)\n",
    "np.random.seed(51)\n",
    "\n",
    "window_size = 30\n",
    "train_set = windowed_dataset(x_train, window_size, batch_size=128, shuffle_buffer=shuffle_buffer_size)\n",
    "\n",
    "model = tf.keras.models.Sequential([\n",
    "    tf.keras.layers.Conv1D(filters=32, kernel_size=5,\n",
    "                           strides=1, padding=\"causal\",\n",
    "                           activation=\"relu\",\n",
    "                           input_shape=[None, 1]),\n",
    "    tf.keras.layers.Bidirectional(tf.keras.layers.LSTM(32, return_sequences=True)),\n",
    "    tf.keras.layers.Bidirectional(tf.keras.layers.LSTM(32, return_sequences=True)),\n",
    "    tf.keras.layers.Dense(1),\n",
    "    tf.keras.layers.Lambda(lambda x: x * 200)\n",
    "])\n",
    "\n",
    "lr_schedule = tf.keras.callbacks.LearningRateScheduler(\n",
    "    lambda epoch: 1e-8 * 10 ** (epoch / 20))\n",
    "optimizer = tf.keras.optimizers.SGD(learning_rate=1e-8, momentum=0.9)\n",
    "model.compile(loss=tf.keras.losses.Huber(),\n",
    "              optimizer=optimizer,\n",
    "              metrics=[\"mae\"])\n",
    "\n",
    "model.summary()\n",
    "\n",
    "history = model.fit(train_set, epochs=100, callbacks=[lr_schedule])"
   ],
   "metadata": {
    "collapsed": false,
    "pycharm": {
     "name": "#%%\n"
    }
   }
  },
  {
   "cell_type": "code",
   "execution_count": 6,
   "outputs": [
    {
     "data": {
      "text/plain": "(1e-08, 0.0001, 0.0, 30.0)"
     },
     "execution_count": 6,
     "metadata": {},
     "output_type": "execute_result"
    },
    {
     "data": {
      "text/plain": "<Figure size 432x288 with 1 Axes>",
      "image/png": "[encoded data removed]"
     },
     "metadata": {
      "needs_background": "light"
     },
     "output_type": "display_data"
    }
   ],
   "source": [
    "plt.semilogx(history.history[\"lr\"], history.history[\"loss\"])\n",
    "plt.axis([1e-8, 1e-4, 0, 30])"
   ],
   "metadata": {
    "collapsed": false,
    "pycharm": {
     "name": "#%%\n"
    }
   }
  },
  {
   "cell_type": "code",
   "execution_count": 7,
   "outputs": [],
   "source": [
    "tf.keras.backend.clear_session()\n",
    "tf.random.set_seed(51)\n",
    "np.random.seed(51)\n",
    "#batch_size = 16\n",
    "dataset = windowed_dataset(x_train, window_size, batch_size, shuffle_buffer_size)\n",
    "\n",
    "model = tf.keras.models.Sequential([\n",
    "    tf.keras.layers.Conv1D(filters=32, kernel_size=3,\n",
    "                           strides=1, padding=\"causal\",\n",
    "                           activation=\"relu\",\n",
    "                           input_shape=[None, 1]),\n",
    "    tf.keras.layers.LSTM(32, return_sequences=True),\n",
    "    tf.keras.layers.LSTM(32, return_sequences=True),\n",
    "    tf.keras.layers.Dense(1),\n",
    "    tf.keras.layers.Lambda(lambda x: x * 200)\n",
    "])\n",
    "\n",
    "optimizer = tf.keras.optimizers.SGD(learning_rate=1e-5, momentum=0.9)\n",
    "model.compile(loss=tf.keras.losses.Huber(),\n",
    "              optimizer=optimizer,\n",
    "              metrics=[\"mae\"])\n",
    "\n",
    "model.summary()\n",
    "\n",
    "history = model.fit(dataset, epochs=500, verbose=0)"
   ],
   "metadata": {
    "collapsed": false,
    "pycharm": {
     "name": "#%%\n"
    }
   }
  },
  {
   "cell_type": "code",
   "execution_count": 9,
   "outputs": [],
   "source": [
    "rnn_forecast = model_forecast(model, series[..., np.newaxis], window_size)\n",
    "rnn_forecast = rnn_forecast[split_time - window_size:-1, -1, 0]"
   ],
   "metadata": {
    "collapsed": false,
    "pycharm": {
     "name": "#%%\n"
    }
   }
  },
  {
   "cell_type": "code",
   "execution_count": null,
   "outputs": [],
   "source": [
    "plt.figure(figsize=(10, 6))\n",
    "plot_series(time_valid, x_valid)\n",
    "plot_series(time_valid, rnn_forecast)"
   ],
   "metadata": {
    "collapsed": false,
    "pycharm": {
     "name": "#%%\n"
    }
   }
  },
  {
   "cell_type": "code",
   "execution_count": 10,
   "outputs": [
    {
     "data": {
      "text/plain": "5.0917726"
     },
     "execution_count": 10,
     "metadata": {},
     "output_type": "execute_result"
    }
   ],
   "source": [
    "tf.keras.metrics.mean_absolute_error(x_valid, rnn_forecast).numpy()"
   ],
   "metadata": {
    "collapsed": false,
    "pycharm": {
     "name": "#%%\n"
    }
   }
  },
  {
   "cell_type": "code",
   "execution_count": 11,
   "outputs": [
    {
     "data": {
      "text/plain": "<Figure size 432x288 with 0 Axes>"
     },
     "execution_count": 11,
     "metadata": {},
     "output_type": "execute_result"
    },
    {
     "data": {
      "text/plain": "<Figure size 432x288 with 1 Axes>",
      "image/png": "[encoded data removed]"
     },
     "metadata": {
      "needs_background": "light"
     },
     "output_type": "display_data"
    },
    {
     "data": {
      "text/plain": "<Figure size 432x288 with 1 Axes>",
      "image/png": "[encoded data removed]"
     },
     "metadata": {
      "needs_background": "light"
     },
     "output_type": "display_data"
    },
    {
     "data": {
      "text/plain": "<Figure size 432x288 with 0 Axes>"
     },
     "metadata": {},
     "output_type": "display_data"
    }
   ],
   "source": [
    "import matplotlib.image  as mpimg\n",
    "import matplotlib.pyplot as plt\n",
    "\n",
    "#-----------------------------------------------------------\n",
    "# Retrieve a list of list results on training and test data\n",
    "# sets for each training epoch\n",
    "#-----------------------------------------------------------\n",
    "mae=history.history['mae']\n",
    "loss=history.history['loss']\n",
    "\n",
    "epochs=range(len(loss)) # Get number of epochs\n",
    "\n",
    "#------------------------------------------------\n",
    "# Plot MAE and Loss\n",
    "#------------------------------------------------\n",
    "plt.plot(epochs, mae, 'r')\n",
    "plt.plot(epochs, loss, 'b')\n",
    "plt.title('MAE and Loss')\n",
    "plt.xlabel(\"Epochs\")\n",
    "plt.ylabel(\"Accuracy\")\n",
    "plt.legend([\"MAE\", \"Loss\"])\n",
    "\n",
    "plt.figure()\n",
    "\n",
    "epochs_zoom = epochs[200:]\n",
    "mae_zoom = mae[200:]\n",
    "loss_zoom = loss[200:]\n",
    "\n",
    "#------------------------------------------------\n",
    "# Plot Zoomed MAE and Loss\n",
    "#------------------------------------------------\n",
    "plt.plot(epochs_zoom, mae_zoom, 'r')\n",
    "plt.plot(epochs_zoom, loss_zoom, 'b')\n",
    "plt.title('MAE and Loss')\n",
    "plt.xlabel(\"Epochs\")\n",
    "plt.ylabel(\"Accuracy\")\n",
    "plt.legend([\"MAE\", \"Loss\"])\n",
    "\n",
    "plt.figure()"
   ],
   "metadata": {
    "collapsed": false,
    "pycharm": {
     "name": "#%%\n"
    }
   }
  },
  {
   "cell_type": "code",
   "execution_count": null,
   "outputs": [],
   "source": [],
   "metadata": {
    "collapsed": false,
    "pycharm": {
     "name": "#%%\n"
    }
   }
  }
 ],
 "metadata": {
  "kernelspec": {
   "display_name": "Python 3",
   "language": "python",
   "name": "python3"
  },
  "language_info": {
   "codemirror_mode": {
    "name": "ipython",
    "version": 2
   },
   "file_extension": ".py",
   "mimetype": "text/x-python",
   "name": "python",
   "nbconvert_exporter": "python",
   "pygments_lexer": "ipython2",
   "version": "2.7.6"
  }
 },
 "nbformat": 4,
 "nbformat_minor": 0
}