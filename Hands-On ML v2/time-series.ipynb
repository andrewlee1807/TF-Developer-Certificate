{
 "cells": [
  {
   "cell_type": "code",
   "execution_count": 1,
   "metadata": {
    "collapsed": true
   },
   "outputs": [],
   "source": [
    "import numpy as np\n",
    "import tensorboard\n",
    "from tensorflow import keras as K"
   ]
  },
  {
   "cell_type": "code",
   "execution_count": 2,
   "outputs": [],
   "source": [
    "def generate_time_series(batch_size, n_steps):\n",
    "    freq1, freq2, offsets1, offsets2 = np.random.rand(4, batch_size, 1)  # batch_size, time steps, dimension\n",
    "    time = np.linspace(0, 1, n_steps)\n",
    "    series = 0.5 * np.sin((time - offsets1) * (freq1 * 10 + 10))  # wave 1\n",
    "    series += 0.2 * np.sin((time - offsets2) * (freq2 * 20 + 20))  # wave 2\n",
    "    series += 0.1 * (np.random.rand(batch_size, n_steps) - 0.5)  # noise\n",
    "    return series[..., np.newaxis].astype(np.float32)"
   ],
   "metadata": {
    "collapsed": false,
    "pycharm": {
     "name": "#%%\n"
    }
   }
  },
  {
   "cell_type": "code",
   "execution_count": 3,
   "outputs": [],
   "source": [
    "n_steps = 50\n",
    "series = generate_time_series(10000, n_steps + 1)\n",
    "X_train, y_train = series[:7000, :n_steps], series[:7000, -1]\n",
    "X_val, y_val = series[7000:9000, :n_steps], series[7000:9000, -1]\n",
    "X_test, y_test = series[9000:, :n_steps], series[9000:, -1]"
   ],
   "metadata": {
    "collapsed": false,
    "pycharm": {
     "name": "#%%\n"
    }
   }
  },
  {
   "cell_type": "code",
   "execution_count": 4,
   "outputs": [],
   "source": [
    "from sklearn.model_selection import train_test_split\n",
    "\n",
    "X_train1, X_test1, y_train1, y_test1 = train_test_split(series[:, :50], series[:, -1], test_size=0.1, shuffle=False)\n",
    "X_train1, X_val1, y_train1, y_val1 = train_test_split(X_train1[:, :50], X_train1[:, -1], test_size=2 / 9, shuffle=False)"
   ],
   "metadata": {
    "collapsed": false,
    "pycharm": {
     "name": "#%%\n"
    }
   }
  },
  {
   "cell_type": "code",
   "execution_count": 5,
   "outputs": [],
   "source": [
    "model = K.models.Sequential([\n",
    "    K.layers.Flatten(input_shape=[n_steps, 1]),\n",
    "    K.layers.Dense(1)\n",
    "])"
   ],
   "metadata": {
    "collapsed": false,
    "pycharm": {
     "name": "#%%\n"
    }
   }
  },
  {
   "cell_type": "code",
   "execution_count": 6,
   "outputs": [
    {
     "name": "stderr",
     "output_type": "stream",
     "text": [
      "C:\\Users\\Andrew\\anaconda3\\envs\\TF_Developer_Certificate\\lib\\site-packages\\keras\\optimizer_v2\\adam.py:105: UserWarning: The `lr` argument is deprecated, use `learning_rate` instead.\n",
      "  super(Adam, self).__init__(name, **kwargs)\n"
     ]
    }
   ],
   "source": [
    "model.compile(\n",
    "    optimizer=K.optimizers.Adam(lr=0.001),\n",
    "    loss='mse'\n",
    ")"
   ],
   "metadata": {
    "collapsed": false,
    "pycharm": {
     "name": "#%%\n"
    }
   }
  },
  {
   "cell_type": "code",
   "execution_count": 8,
   "outputs": [
    {
     "name": "stdout",
     "output_type": "stream",
     "text": [
      "Epoch 1/20\n",
      "110/110 [==============================] - 1s 3ms/step - loss: 0.0794 - val_loss: 0.0344\n",
      "Epoch 2/20\n",
      "110/110 [==============================] - 0s 2ms/step - loss: 0.0246 - val_loss: 0.0170\n",
      "Epoch 3/20\n",
      "110/110 [==============================] - 0s 2ms/step - loss: 0.0137 - val_loss: 0.0114\n",
      "Epoch 4/20\n",
      "110/110 [==============================] - 0s 2ms/step - loss: 0.0098 - val_loss: 0.0090\n",
      "Epoch 5/20\n",
      "110/110 [==============================] - 0s 2ms/step - loss: 0.0080 - val_loss: 0.0076\n",
      "Epoch 6/20\n",
      "110/110 [==============================] - 0s 3ms/step - loss: 0.0071 - val_loss: 0.0069\n",
      "Epoch 7/20\n",
      "110/110 [==============================] - 0s 2ms/step - loss: 0.0065 - val_loss: 0.0065\n",
      "Epoch 8/20\n",
      "110/110 [==============================] - 0s 2ms/step - loss: 0.0062 - val_loss: 0.0062\n",
      "Epoch 9/20\n",
      "110/110 [==============================] - 0s 2ms/step - loss: 0.0059 - val_loss: 0.0059\n",
      "Epoch 10/20\n",
      "110/110 [==============================] - 0s 2ms/step - loss: 0.0057 - val_loss: 0.0057\n",
      "Epoch 11/20\n",
      "110/110 [==============================] - 0s 3ms/step - loss: 0.0054 - val_loss: 0.0055\n",
      "Epoch 12/20\n",
      "110/110 [==============================] - 0s 2ms/step - loss: 0.0053 - val_loss: 0.0053\n",
      "Epoch 13/20\n",
      "110/110 [==============================] - 0s 2ms/step - loss: 0.0051 - val_loss: 0.0052\n",
      "Epoch 14/20\n",
      "110/110 [==============================] - 0s 2ms/step - loss: 0.0050 - val_loss: 0.0050\n",
      "Epoch 15/20\n",
      "110/110 [==============================] - 0s 2ms/step - loss: 0.0048 - val_loss: 0.0048\n",
      "Epoch 16/20\n",
      "110/110 [==============================] - 0s 2ms/step - loss: 0.0048 - val_loss: 0.0048\n",
      "Epoch 17/20\n",
      "110/110 [==============================] - 0s 2ms/step - loss: 0.0046 - val_loss: 0.0047\n",
      "Epoch 18/20\n",
      "110/110 [==============================] - 0s 2ms/step - loss: 0.0045 - val_loss: 0.0046\n",
      "Epoch 19/20\n",
      "110/110 [==============================] - 0s 2ms/step - loss: 0.0045 - val_loss: 0.0044\n",
      "Epoch 20/20\n",
      "110/110 [==============================] - 0s 4ms/step - loss: 0.0044 - val_loss: 0.0044\n"
     ]
    },
    {
     "data": {
      "text/plain": "<keras.callbacks.History at 0x1fc59f448b0>"
     },
     "execution_count": 8,
     "metadata": {},
     "output_type": "execute_result"
    }
   ],
   "source": [
    "model.fit(X_train,\n",
    "          y_train,\n",
    "          batch_size=64,\n",
    "          validation_data=(X_val, y_val),\n",
    "          epochs=20)"
   ],
   "metadata": {
    "collapsed": false,
    "pycharm": {
     "name": "#%%\n"
    }
   }
  },
  {
   "cell_type": "code",
   "execution_count": 23,
   "outputs": [
    {
     "name": "stdout",
     "output_type": "stream",
     "text": [
      "(7000, 50, 1)\n",
      "(7000, 1)\n"
     ]
    }
   ],
   "source": [
    "print(X_train.shape)\n",
    "print(y_train.shape)"
   ],
   "metadata": {
    "collapsed": false,
    "pycharm": {
     "name": "#%%\n"
    }
   }
  },
  {
   "cell_type": "code",
   "execution_count": 16,
   "outputs": [
    {
     "name": "stdout",
     "output_type": "stream",
     "text": [
      "Epoch 1/2\n",
      "110/110 [==============================] - 6s 48ms/step - loss: 0.2503 - val_loss: 0.2464\n",
      "Epoch 2/2\n",
      "110/110 [==============================] - 5s 46ms/step - loss: 0.2287 - val_loss: 0.2247\n"
     ]
    },
    {
     "data": {
      "text/plain": "<keras.callbacks.History at 0x1fc60741d30>"
     },
     "execution_count": 16,
     "metadata": {},
     "output_type": "execute_result"
    }
   ],
   "source": [
    "model = K.models.Sequential([\n",
    "    K.layers.RNN(K.layers.LSTMCell(1), input_shape=[None, 1])\n",
    "])\n",
    "model.compile(\n",
    "    optimizer=K.optimizers.Adam(),\n",
    "    loss='mse'\n",
    ")\n",
    "model.fit(X_train,\n",
    "          y_train,\n",
    "          batch_size=64,\n",
    "          epochs=2,\n",
    "          validation_data=(X_val, y_val)\n",
    "          )"
   ],
   "metadata": {
    "collapsed": false,
    "pycharm": {
     "name": "#%%\n"
    }
   }
  },
  {
   "cell_type": "code",
   "execution_count": null,
   "outputs": [],
   "source": [
    "model = K.models.Sequential([\n",
    "    K.layers.RNN(K.layers.LSTMCell(10), return_state=True, input_shape=[None, 1]),\n",
    "    K.layers.RNN(K.layers.LSTMCell(1))\n",
    "])\n",
    "model.compile(\n",
    "    optimizer=K.optimizers.Adam(lr=0.001),\n",
    "    loss='mse'\n",
    ")\n",
    "model.fit(X_train,\n",
    "          y_train,\n",
    "          batch_size=64,\n",
    "          epochs=2,\n",
    "          validation_data=(X_val, y_val)\n",
    "          )"
   ],
   "metadata": {
    "collapsed": false,
    "pycharm": {
     "name": "#%%\n"
    }
   }
  },
  {
   "cell_type": "code",
   "execution_count": 38,
   "outputs": [],
   "source": [
    "series = generate_time_series(10000, n_steps + 10)\n",
    "X_train, Y_train = series[:7000, :n_steps], series[:7000, -10:, 0]\n",
    "X_valid, Y_valid = series[7000:9000, :n_steps], series[7000:9000, -10:, 0]\n",
    "X_test, Y_test = series[9000:, :n_steps], series[9000:, -10:, 0]\n",
    "\n",
    "Y = np.empty((10000, n_steps, 10))  # each target is a sequence of 10D vectors\n",
    "for step_ahead in range(1, 10 + 1):\n",
    "    Y[:, :, step_ahead - 1] = series[:, step_ahead:step_ahead + n_steps, 0]\n",
    "Y_train = Y[:7000]\n",
    "Y_valid = Y[7000:9000]\n",
    "Y_test = Y[9000:]\n"
   ],
   "metadata": {
    "collapsed": false,
    "pycharm": {
     "name": "#%%\n"
    }
   }
  },
  {
   "cell_type": "code",
   "execution_count": 39,
   "outputs": [
    {
     "name": "stdout",
     "output_type": "stream",
     "text": [
      "(7000, 50, 1)\n",
      "(7000, 50, 10)\n"
     ]
    }
   ],
   "source": [
    "print(X_train.shape)\n",
    "print(Y_train.shape)"
   ],
   "metadata": {
    "collapsed": false,
    "pycharm": {
     "name": "#%%\n"
    }
   }
  },
  {
   "cell_type": "code",
   "execution_count": 55,
   "outputs": [
    {
     "name": "stdout",
     "output_type": "stream",
     "text": [
      "Epoch 1/2\n",
      "110/110 [==============================] - 3s 12ms/step - loss: 0.0863 - val_loss: 0.0598\n",
      "Epoch 2/2\n",
      "110/110 [==============================] - 1s 8ms/step - loss: 0.0555 - val_loss: 0.0517\n"
     ]
    },
    {
     "data": {
      "text/plain": "<keras.callbacks.History at 0x1fe1486a4f0>"
     },
     "execution_count": 55,
     "metadata": {},
     "output_type": "execute_result"
    }
   ],
   "source": [
    "model = K.models.Sequential([\n",
    "    K.layers.RNN(K.layers.GRUCell(20), return_sequences=True, input_shape=[None, 1]),\n",
    "    K.layers.RNN(K.layers.GRUCell(20), return_sequences=True),\n",
    "    K.layers.TimeDistributed(K.layers.Dense(10))\n",
    "    # TimeDistributed: The case with Dense is that in keras from version 2.0 Dense is by default applied to only last dimension (e.g. if you apply Dense(10) to input with shape (n, m, o, p) you'll get output with shape (n, m, o, 10))\n",
    "])\n",
    "# model = K.models.Sequential([\n",
    "#     K.layers.GRU(20, return_sequences=True, input_shape=[None, 1]),\n",
    "#     K.layers.GRU(20, return_sequences=True),\n",
    "#     K.layers.TimeDistributed(K.layers.Dense(10))\n",
    "# ])\n",
    "\n",
    "model.compile(\n",
    "    optimizer=K.optimizers.Adam(),\n",
    "    loss='mse'\n",
    ")\n",
    "model.fit(X_train,\n",
    "          Y_train,\n",
    "          batch_size=64,\n",
    "          epochs=2,\n",
    "          validation_data=(X_valid, Y_valid)\n",
    "          )"
   ],
   "metadata": {
    "collapsed": false,
    "pycharm": {
     "name": "#%%\n"
    }
   }
  },
  {
   "cell_type": "code",
   "execution_count": 60,
   "outputs": [
    {
     "name": "stdout",
     "output_type": "stream",
     "text": [
      "Epoch 1/20\n",
      "219/219 [==============================] - 5s 14ms/step - loss: 0.0794 - val_loss: 0.0491\n",
      "Epoch 2/20\n",
      "219/219 [==============================] - 3s 12ms/step - loss: 0.0374 - val_loss: 0.0311\n",
      "Epoch 3/20\n",
      "219/219 [==============================] - 3s 12ms/step - loss: 0.0279 - val_loss: 0.0265\n",
      "Epoch 4/20\n",
      "219/219 [==============================] - 3s 12ms/step - loss: 0.0252 - val_loss: 0.0246\n",
      "Epoch 5/20\n",
      "219/219 [==============================] - 3s 12ms/step - loss: 0.0235 - val_loss: 0.0232\n",
      "Epoch 6/20\n",
      "219/219 [==============================] - 3s 12ms/step - loss: 0.0224 - val_loss: 0.0229\n",
      "Epoch 7/20\n",
      "219/219 [==============================] - 3s 12ms/step - loss: 0.0215 - val_loss: 0.0216\n",
      "Epoch 8/20\n",
      "219/219 [==============================] - 2s 11ms/step - loss: 0.0208 - val_loss: 0.0209\n",
      "Epoch 9/20\n",
      "219/219 [==============================] - 2s 11ms/step - loss: 0.0203 - val_loss: 0.0205\n",
      "Epoch 10/20\n",
      "219/219 [==============================] - 2s 11ms/step - loss: 0.0199 - val_loss: 0.0201\n",
      "Epoch 11/20\n",
      "219/219 [==============================] - 2s 10ms/step - loss: 0.0195 - val_loss: 0.0198\n",
      "Epoch 12/20\n",
      "219/219 [==============================] - 2s 10ms/step - loss: 0.0193 - val_loss: 0.0195\n",
      "Epoch 13/20\n",
      "219/219 [==============================] - 2s 10ms/step - loss: 0.0190 - val_loss: 0.0192\n",
      "Epoch 14/20\n",
      "219/219 [==============================] - 2s 10ms/step - loss: 0.0188 - val_loss: 0.0191\n",
      "Epoch 15/20\n",
      "219/219 [==============================] - 2s 11ms/step - loss: 0.0186 - val_loss: 0.0189\n",
      "Epoch 16/20\n",
      "219/219 [==============================] - 3s 12ms/step - loss: 0.0184 - val_loss: 0.0186\n",
      "Epoch 17/20\n",
      "219/219 [==============================] - 2s 11ms/step - loss: 0.0182 - val_loss: 0.0185\n",
      "Epoch 18/20\n",
      "219/219 [==============================] - 2s 11ms/step - loss: 0.0180 - val_loss: 0.0182\n",
      "Epoch 19/20\n",
      "219/219 [==============================] - 2s 11ms/step - loss: 0.0178 - val_loss: 0.0180\n",
      "Epoch 20/20\n",
      "219/219 [==============================] - 2s 11ms/step - loss: 0.0177 - val_loss: 0.0179\n"
     ]
    }
   ],
   "source": [
    "model = K.models.Sequential([\n",
    "    K.layers.Conv1D(filters=20, kernel_size=4, strides=2, padding=\"valid\",\n",
    "                    input_shape=[None, 1]),\n",
    "    K.layers.LSTM(20, return_sequences=True),\n",
    "    K.layers.LSTM(20, return_sequences=True),\n",
    "    K.layers.TimeDistributed(K.layers.Dense(10))\n",
    "])\n",
    "\n",
    "model.compile(loss=\"mse\", optimizer=\"adam\")\n",
    "history = model.fit(X_train, Y_train[:, 3::2], epochs=20,\n",
    "                    validation_data=(X_valid, Y_valid[:, 3::2])) # (since the kernel’s size is 4, the first output of the convolutional layer will be based on the input time steps 0 to 3), and downsample the targets by a factor of 2"
   ],
   "metadata": {
    "collapsed": false,
    "pycharm": {
     "name": "#%%\n"
    }
   }
  },
  {
   "cell_type": "code",
   "execution_count": 58,
   "outputs": [
    {
     "data": {
      "text/plain": "(7000, 24, 10)"
     },
     "execution_count": 58,
     "metadata": {},
     "output_type": "execute_result"
    }
   ],
   "source": [
    "Y_train[:, 3::2].shape"
   ],
   "metadata": {
    "collapsed": false,
    "pycharm": {
     "name": "#%%\n"
    }
   }
  },
  {
   "cell_type": "code",
   "execution_count": 59,
   "outputs": [
    {
     "data": {
      "text/plain": "(7000, 50, 10)"
     },
     "execution_count": 59,
     "metadata": {},
     "output_type": "execute_result"
    }
   ],
   "source": [
    "Y_train.shape"
   ],
   "metadata": {
    "collapsed": false,
    "pycharm": {
     "name": "#%%\n"
    }
   }
  },
  {
   "cell_type": "code",
   "execution_count": 69,
   "outputs": [
    {
     "data": {
      "text/plain": "(5, 2, 2)"
     },
     "execution_count": 69,
     "metadata": {},
     "output_type": "execute_result"
    }
   ],
   "source": [
    "t = np.array([[[1, 2], [1, 3], [1, 3]],\n",
    "              [[3, 2], [3, 4], [1, 3]],\n",
    "              [[4, 3], [3, 4], [1, 3]],\n",
    "              [[5, 2], [3, 4], [1, 3]],\n",
    "              [[5, 3], [4, 5], [1, 3]]])\n",
    "t.shape"
   ],
   "metadata": {
    "collapsed": false,
    "pycharm": {
     "name": "#%%\n"
    }
   }
  },
  {
   "cell_type": "code",
   "execution_count": 85,
   "outputs": [
    {
     "data": {
      "text/plain": "array([[[1, 2],\n        [1, 3]],\n\n       [[3, 2],\n        [3, 4]],\n\n       [[4, 3],\n        [3, 4]],\n\n       [[5, 2],\n        [3, 4]],\n\n       [[5, 3],\n        [4, 5]]])"
     },
     "execution_count": 85,
     "metadata": {},
     "output_type": "execute_result"
    }
   ],
   "source": [
    "t[:,0::1]"
   ],
   "metadata": {
    "collapsed": false,
    "pycharm": {
     "name": "#%%\n"
    }
   }
  },
  {
   "cell_type": "code",
   "execution_count": 81,
   "outputs": [],
   "source": [],
   "metadata": {
    "collapsed": false,
    "pycharm": {
     "name": "#%%\n"
    }
   }
  },
  {
   "cell_type": "code",
   "execution_count": null,
   "outputs": [],
   "source": [],
   "metadata": {
    "collapsed": false,
    "pycharm": {
     "name": "#%%\n"
    }
   }
  }
 ],
 "metadata": {
  "kernelspec": {
   "display_name": "Python 3",
   "language": "python",
   "name": "python3"
  },
  "language_info": {
   "codemirror_mode": {
    "name": "ipython",
    "version": 2
   },
   "file_extension": ".py",
   "mimetype": "text/x-python",
   "name": "python",
   "nbconvert_exporter": "python",
   "pygments_lexer": "ipython2",
   "version": "2.7.6"
  }
 },
 "nbformat": 4,
 "nbformat_minor": 0
}